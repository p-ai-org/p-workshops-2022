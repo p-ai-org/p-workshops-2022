{
 "cells": [
  {
   "attachments": {},
   "cell_type": "markdown",
   "metadata": {},
   "source": [
    "Introductions to the Support Vector Machine (SVM)\n",
    "\n",
    "Adapted from University of Tokyo"
   ]
  },
  {
   "cell_type": "code",
   "execution_count": 1,
   "metadata": {},
   "outputs": [],
   "source": [
    "import pandas as pd\n",
    "import numpy as np\n",
    "from sklearn.svm import SVC\n",
    "from sklearn.metrics import classification_report\n",
    "import matplotlib.pyplot as plt\n",
    "from AuxFunctions import plot_confusion_matrix"
   ]
  },
  {
   "attachments": {},
   "cell_type": "markdown",
   "metadata": {},
   "source": [
    "## What is an SVM?\n",
    "\n",
    "Its a supervised learning model that seeks to divide classes of data. In other words, if I want to build an SVM to classify cats and dogs, then it will need to figure out a way to draw a line that divides cat and dog datapoints"
   ]
  },
  {
   "attachments": {},
   "cell_type": "markdown",
   "metadata": {},
   "source": [
    "In more general terms, we can say that an SVM seeks to draw a hyperplane in an N-dimensional space that classifies data. What does this exactly mean?\n",
    "\n",
    "For a 2-D space, the \"hyperplane\" will just be a line, as shown below:\n",
    "\n",
    "<img src=\"https://pimages.toolbox.com/wp-content/uploads/2022/09/02134804/Diagram-depicting-SVM-example-with-hyperplane-for-classification-problem.jpg\" width=\"400px\">\n",
    "\n",
    "For a 3-D space, the \"hyperplane\" is an actual plane, as shown below:\n",
    "\n",
    "<img src=\"https://miro.medium.com/max/784/0*QDy2DTKEtPvoP_n_.png\" width=\"400px\">"
   ]
  },
  {
   "attachments": {},
   "cell_type": "markdown",
   "metadata": {},
   "source": [
    "However, what happens when problems get a bit more messy? Perhaps we can apply some sort of transformation? Let's first look at a simple transform."
   ]
  },
  {
   "attachments": {},
   "cell_type": "markdown",
   "metadata": {},
   "source": [
    "What about going into higher dimensions?\n",
    "\n",
    "Let's look at this problem child:\n",
    "\n",
    "<img src=\"https://miro.medium.com/v2/resize:fit:720/format:webp/1*Wp8tGecatxHqUgHNaVQddg.png\" width = 400px>\n",
    "\n",
    "We can go from a 2-D space to a 3-D space\n",
    "\n",
    "<img src=\"https://miro.medium.com/max/720/1*XhXJldwvZ9IpGNts41Mefw.gif\" width = 400px>\n",
    "\n",
    "So we had a problem: non-linearly separable data. To solve the problem, we moved into a higher dimensional space where we could then come up with a better hyperplane.\n",
    "\n",
    "However, using simple functions can be costly, especially when we move into higher dimensional spaces. What if, for instance, we seek to move into an infinite dimensional space? The function mapping becomes a bit too difficult to work with. We need to find some sort of computational simplification."
   ]
  },
  {
   "attachments": {},
   "cell_type": "markdown",
   "metadata": {},
   "source": [
    "## Kernels\n",
    "\n"
   ]
  },
  {
   "attachments": {},
   "cell_type": "markdown",
   "metadata": {},
   "source": [
    "We will not be looking at the precise math behind the SVM, so this next section may be a bit hand-wavy. A bit of trust is required.\n",
    "\n",
    "Due to how SVMs are constructed, we do not actually need to know exactly how a function transforms a data point. In other we words for a given set of data with class x and class y, we don't need to know how $x \\rightarrow f(x)$ or how $y \\rightarrow f(y)$.\n",
    "\n",
    "The only thing we really care about is how $f(x)$ and $f(y)$ compare. In other words, we only really want to know the result of the inner product of $f(x)$ and $f(y)$. Thus, we will designate some kernel function:\n",
    "\n",
    "$k(x, y) = f(x) \\cdot f(y)$"
   ]
  },
  {
   "attachments": {},
   "cell_type": "markdown",
   "metadata": {},
   "source": [
    "Let us see why this can simplify things. We'll examine a commonly used function, the polynomial function. For some set of x and y, we will have the polynomial function\n",
    "\n",
    "$f(x, y) = x + y + xy+ x^2 + y^2$\n",
    "\n",
    "However, the polynomial kernel is simply:\n",
    "$k(x, y) = (1 + x \\cdot y)^2$\n",
    "\n",
    "This point can be illustrated with another common kernel, the Radial Basis Function (RBF)\n",
    "\n",
    "$f(x, y) =$ some infinite dimensional mapping\n",
    "\n",
    "$k(x, y) = e^{-\\gamma||x - y||^2}$"
   ]
  },
  {
   "cell_type": "code",
   "execution_count": null,
   "metadata": {},
   "outputs": [],
   "source": []
  }
 ],
 "metadata": {
  "kernelspec": {
   "display_name": "Python 3",
   "language": "python",
   "name": "python3"
  },
  "language_info": {
   "codemirror_mode": {
    "name": "ipython",
    "version": 3
   },
   "file_extension": ".py",
   "mimetype": "text/x-python",
   "name": "python",
   "nbconvert_exporter": "python",
   "pygments_lexer": "ipython3",
   "version": "3.8.10"
  },
  "orig_nbformat": 4,
  "vscode": {
   "interpreter": {
    "hash": "8c9d00ddaa79aa68c3a541f4a79b3085c4c0d74dc6caab7ebd7301921f5b4803"
   }
  }
 },
 "nbformat": 4,
 "nbformat_minor": 2
}
