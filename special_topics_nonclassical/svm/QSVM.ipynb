{
 "cells": [
  {
   "attachments": {},
   "cell_type": "markdown",
   "metadata": {},
   "source": [
    "# Introductions to the Support Vector Machine (SVM)"
   ]
  },
  {
   "cell_type": "code",
   "execution_count": 1,
   "metadata": {},
   "outputs": [],
   "source": [
    "import pandas as pd\n",
    "import numpy as np\n",
    "from sklearn.svm import SVC\n",
    "from sklearn.metrics import classification_report\n",
    "import matplotlib.pyplot as plt\n",
    "from AuxFunctions import plot_confusion_matrix"
   ]
  },
  {
   "attachments": {},
   "cell_type": "markdown",
   "metadata": {},
   "source": [
    "## What is an SVM?\n",
    "\n",
    "Its a supervised learning model that seeks to divide classes of data. In other words, if I want to build an SVM to classify cats and dogs, then it will need to figure out a way to draw a line that divides cat and dog datapoints. I need to figure out a DECISION BOUNDARY"
   ]
  },
  {
   "attachments": {},
   "cell_type": "markdown",
   "metadata": {},
   "source": [
    "In more general terms, we can say that an SVM seeks to draw a hyperplane in an N-dimensional space that classifies data. What does this exactly mean?\n",
    "\n",
    "For a 2-D space, the \"hyperplane\" will just be a line, as shown below:\n",
    "\n",
    "<img src=\"https://pimages.toolbox.com/wp-content/uploads/2022/09/02134804/Diagram-depicting-SVM-example-with-hyperplane-for-classification-problem.jpg\" width=\"400px\">\n",
    "\n",
    "For a 3-D space, the \"hyperplane\" is an actual plane, as shown below:\n",
    "\n",
    "<img src=\"https://miro.medium.com/max/784/0*QDy2DTKEtPvoP_n_.png\" width=\"400px\">"
   ]
  },
  {
   "attachments": {},
   "cell_type": "markdown",
   "metadata": {},
   "source": [
    "However, what happens when problems get a bit more messy? Perhaps we can apply some sort of transformation? Let's first look at a simple transform."
   ]
  },
  {
   "attachments": {},
   "cell_type": "markdown",
   "metadata": {},
   "source": [
    "What about going into higher dimensions?\n",
    "\n",
    "Let's look at this problem child:\n",
    "\n",
    "<img src=\"https://miro.medium.com/v2/resize:fit:720/format:webp/1*Wp8tGecatxHqUgHNaVQddg.png\" width = 400px>\n",
    "\n",
    "We can go from a 2-D space to a 3-D space\n",
    "\n",
    "<img src=\"https://miro.medium.com/max/720/1*XhXJldwvZ9IpGNts41Mefw.gif\" width = 400px>\n",
    "\n",
    "So we had a problem: non-linearly separable data. To solve the problem, we moved into a higher dimensional space where we could then come up with a better hyperplane.\n",
    "\n",
    "However, using simple functions can be costly, especially when we move into higher dimensional spaces. What if, for instance, we seek to move into an infinite dimensional space? The function mapping becomes a bit too difficult to work with. We need to find some sort of computational simplification."
   ]
  },
  {
   "attachments": {},
   "cell_type": "markdown",
   "metadata": {},
   "source": [
    "## Kernels\n",
    "\n"
   ]
  },
  {
   "attachments": {},
   "cell_type": "markdown",
   "metadata": {},
   "source": [
    "We will not be looking at the precise math behind the SVM, so this next section may be a bit hand-wavy. A bit of trust is required.\n",
    "\n",
    "Due to how SVMs are constructed, we do not actually need to know exactly how a function transforms a data point. In other we words for a given set of data with class x and class y, we don't need to know how $x \\rightarrow f(x)$ or how $y \\rightarrow f(y)$.\n",
    "\n",
    "The only thing we really care about is how $f(x)$ and $f(y)$ compare to one another (remember we are just trying to separate classes). In other words, we only really want to know the result of the inner (or dot) product of $f(x)$ and $f(y)$. Thus, we will designate some kernel function:\n",
    "\n",
    "$k(x, y) = f(x) \\cdot f(y)$"
   ]
  },
  {
   "attachments": {},
   "cell_type": "markdown",
   "metadata": {},
   "source": [
    "Let us see why this can simplify things. We'll examine a commonly used function, the polynomial function. For some set of x and y, we will have the polynomial function\n",
    "\n",
    "$f(x, y) = x + y + xy+ x^2 + y^2$\n",
    "\n",
    "However, the polynomial kernel is simply:\n",
    "$k(x, y) = (1 + x \\cdot y)^2$\n",
    "\n",
    "This point can be illustrated with another common kernel, the Radial Basis Function (RBF)\n",
    "\n",
    "$f(x, y) =$ some infinite dimensional mapping that we can't really compute\n",
    "\n",
    "$k(x, y) = e^{-\\gamma||x - y||^2}$ where $\\gamma$ is a value sets the spread of the kernel function\n",
    "\n",
    "We only care about the pairwise similarity comparisons of our data, and so we do not need to explicitly apply any transformations to our data and try and represent it in weird higher dimensional feature spaces. We can just use the kernel trick to simplify things a whole lot."
   ]
  },
  {
   "attachments": {},
   "cell_type": "markdown",
   "metadata": {},
   "source": [
    "## The vector interpretation of a kernel"
   ]
  },
  {
   "attachments": {},
   "cell_type": "markdown",
   "metadata": {},
   "source": [
    "Remember how a support vector machine has to do with vectors? Let's talk about SVMs and vectors a bit more. We'll up the complexity of what an SVM is. Let's look at a new figure:\n",
    "\n",
    "<img src=\"https://miro.medium.com/v2/resize:fit:1100/format:webp/0*ecA4Ls8kBYSM5nza.jpg\" width = 600px>\n",
    "\n"
   ]
  },
  {
   "attachments": {},
   "cell_type": "markdown",
   "metadata": {},
   "source": [
    "This time, our decision boundary has a margin to it, aka how far away are the data points from the bound. Ideally, we want a decision boundary with a large margin.\n",
    "We can think of the points closest to the hyperplane as the support vectors. Whats a vector again? Its just a quantity with a direction and a magnitude. We typically draw them as little arrows.\n",
    "\n",
    "Our support vectors are key to generating a robust and accurate SVM as we can use these support vectors to maximize the margin. In fact, we can actually express the decision boundary as a sum of support vectors!"
   ]
  },
  {
   "attachments": {},
   "cell_type": "markdown",
   "metadata": {},
   "source": [
    "**So then in this formalism, what exactly is a kernel?** Before we get to that, a quick definition"
   ]
  },
  {
   "attachments": {
    "image-2.png": {
     "image/png": "[encoded data removed]"
    },
    "image.png": {
     "image/png": "[encoded data removed]"
    }
   },
   "cell_type": "markdown",
   "metadata": {},
   "source": [
    "*Definition: Vector Space*: A set of vectors and a set of scalars that are closed under vector addition and scalar multiplication. What does this mean? A vector space basically consists of a set of vectors that we can add and a set of scalars that we can multiply the vectors by.\n",
    "\n",
    "Here's an example of a vector space: Let's designate some 3x1 column matrices:\n",
    "\n",
    "![image.png](attachment:image.png)\n",
    "\n",
    "We can designate the following vector space:\n",
    "\n",
    "![image.png](attachment:image-2.png)\n",
    "\n",
    "The set of all 3x1 matrices and the set of real number form a vector space. This one is commonly referred to as $\\mathbb{R}^3$"
   ]
  },
  {
   "attachments": {},
   "cell_type": "markdown",
   "metadata": {},
   "source": [
    "**The Kernel**\n",
    "\n",
    "The kernel takes in some input vectors in their original space and gives us back the inner product of the vectors in a different feature space. It can take inputs from a lower dimensional vector space and return inner products of these inputs in a higher dimensional vector space."
   ]
  },
  {
   "attachments": {},
   "cell_type": "markdown",
   "metadata": {},
   "source": [
    "**Let's restate everything with our new knowledge**\n",
    "\n",
    "We have a set of data points that we want to classify with a decision boundary. We can pick a really good decision boundary by maximizing the margin of the decision boundary. To figure out how to do that, we need to analyze the support vectors, or the data points that are closest to the decision boundary, and adjust accordingly. \n",
    "\n",
    "However, sometimes a convenient decision boundary cannot be drawn and we will need to go to higher dimensional vector spaces to be able to separate our data. Directly transforming all of our data can be quite costly, so we opt to use the kernel trick, which enables us to simply analyze the inner products of our lower dimensional input vectors in a higher dimensional vector space and generate a suitable decision boundary."
   ]
  },
  {
   "attachments": {},
   "cell_type": "markdown",
   "metadata": {},
   "source": [
    "## Where does quantum mechanics factor into all of this?"
   ]
  },
  {
   "attachments": {},
   "cell_type": "markdown",
   "metadata": {},
   "source": [
    "Let's talk about quantum computers. They run on qubits instead of classical bits. What's the difference?\n",
    "\n",
    "A classical bit is either a 1 or a 0. Its binary. A qubit is a bit more complicated. The quantum principal of superposition enables us to actually have bits that are a probabilistic mixture of both 1 and 0! Why is this powerful? Let's just look at the raw numbers for a second.\n",
    "\n",
    "**Classical**: If each bit can only be a 1 OR a 0, then we will need two bits to represent each state. We can have:\n",
    "\n",
    "$0$\n",
    "\n",
    "$1$\n",
    "\n",
    "**Quantum**: Since each qubit can be a 1 or a 0 or a probabilistic mixture of 1 and 0, we can represent the classical $0$ and the classical $1$ state with a single qubit.\n",
    "\n",
    "$\\ket{\\psi} = \\alpha \\ket{0} + \\beta \\ket{1}$\n",
    "\n",
    "So we can reach all the states of two classical bits with just a single qubit. Let's scale up a bit. What happens if we have two classical bits?\n",
    "\n",
    "**Classical**: Here are all the possible configurations:\n",
    "\n",
    "$0, 0$\n",
    "\n",
    "$0, 1$\n",
    "\n",
    "$1, 0$\n",
    "\n",
    "$1, 1$\n",
    "\n",
    "**Quantum**:\n",
    "\n",
    "$\\ket{\\psi_1}, \\ket{\\psi_2}$\n",
    "\n",
    "So we have described four classical bits with two qubits. In general, $n$ qubits can take the values of $2^n$ classical bits. The amount of classical bits that are needed to model something can really blow up quite quickly, while qubits are much more compact. This is quite useful in a lot of cases. The most low-hanging of fruit is perhaps quantum chemistry simulations. \n",
    "\n",
    "WARNING!!!! It should be noted that we can't won't actually \"own\" all $2^n$ classical bits with only $n$ qubits. Sure, we can represent all of them, but when we perform a measurement, we will only get back a single configuration of bits, aka we will only measure one bit configuration. However, the fact that we can describe all of those classical configurations with only a few qubits is very powerful.\n",
    "\n",
    "Here is a fun little thought:\n",
    "\n",
    "To describe a system of n = 500, we would need $2^{500}$ classical bits, which is more than the estimated number of atoms in the universe.\n",
    "\n",
    "\n",
    "\n"
   ]
  },
  {
   "attachments": {},
   "cell_type": "markdown",
   "metadata": {},
   "source": [
    "### But what does this mean for our SVMs? \n",
    "\n",
    "Let's take a second to think about it"
   ]
  },
  {
   "attachments": {},
   "cell_type": "markdown",
   "metadata": {},
   "source": [
    "We can describe very very large vector spaces with our quantum formalism! With qubits, we effectively have a larger space for computation and we can get to very high dimensional vector spaces with not all too many qubits. This means that there are certain kernels that are classically difficult to calculate but can be made easier by a quantum computer.\n",
    "\n",
    "As the feature spaces become very large (aka high in dimension), the kernel functions are classically very expensive to calculate. However, the quantum state vector space is exponentially large, so we can perform these calculations much more easily.\n",
    "\n",
    "We can \"cheaply\" generate hyperplanes in quantum feature spaces for our SVMs that are classically too expensive or impossible."
   ]
  },
  {
   "attachments": {},
   "cell_type": "markdown",
   "metadata": {},
   "source": [
    "https://arxiv.org/pdf/1804.11326.pdf\n",
    "\n",
    "https://arxiv.org/pdf/2010.02174.pdf\n",
    "\n",
    "https://arxiv.org/pdf/1307.0471.pdf"
   ]
  },
  {
   "attachments": {},
   "cell_type": "markdown",
   "metadata": {},
   "source": [
    "## Let's see some examples"
   ]
  },
  {
   "attachments": {},
   "cell_type": "markdown",
   "metadata": {},
   "source": [
    "So... We need some data that is easy for a quantum kernel to handle and hard for a classical kernel to handle. Researchers have already created such a dataset. Is that cheating? Maybe..."
   ]
  }
 ],
 "metadata": {
  "kernelspec": {
   "display_name": "Python 3",
   "language": "python",
   "name": "python3"
  },
  "language_info": {
   "codemirror_mode": {
    "name": "ipython",
    "version": 3
   },
   "file_extension": ".py",
   "mimetype": "text/x-python",
   "name": "python",
   "nbconvert_exporter": "python",
   "pygments_lexer": "ipython3",
   "version": "3.8.10"
  },
  "orig_nbformat": 4,
  "vscode": {
   "interpreter": {
    "hash": "8c9d00ddaa79aa68c3a541f4a79b3085c4c0d74dc6caab7ebd7301921f5b4803"
   }
  }
 },
 "nbformat": 4,
 "nbformat_minor": 2
}
