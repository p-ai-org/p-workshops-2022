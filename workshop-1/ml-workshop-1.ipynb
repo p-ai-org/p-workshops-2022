{
 "cells": [
  {
   "cell_type": "markdown",
   "id": "55ef1de1",
   "metadata": {},
   "source": [
    "# P-ai AI/ML Workshop: Session 1\n",
    "\n",
    "<img src=\"https://images.squarespace-cdn.com/content/5d5aca05ce74150001a5af3e/1580018583262-NKE94RECI46GRULKS152/Screen+Shot+2019-12-05+at+11.18.53+AM.png?content-type=image%2Fpng\" width=\"200px\">\n",
    "\n",
    "Welcome to P-ai's first session of the AI/ML workshop series! Today we'll learn about\n",
    "- What *is* machine learning? How is it different from \"AI\" or \"Deep Learning\"?\n",
    "- An overview of a typical machine learning problem and solution"
   ]
  },
  {
   "cell_type": "markdown",
   "id": "4984d017",
   "metadata": {},
   "source": [
    "## 1. AI, GI, ML, DL– what do they mean?\n",
    "\n",
    "- AI (Artificial Intelligence): Something artificially created that appears to behave intelligently\n",
    "- GI (General Intelligence): Refers to an AI that can learn anything\n",
    "- ML (Machine Learning) and DL (Deep Learning)... we'll see!\n",
    "\n",
    "A machine learning *algorithm* is an algorithm (designed by a human) that can discover patterns within data *on its own*. Let's put ourselves in the shoes of a machine learning model for a moment:\n",
    "\n",
    "| x  | y  |\n",
    "-----|-----\n",
    "| 2  | 5  |\n",
    "| 21 | 43 |\n",
    "| 36 | 73 |\n",
    "| 7  | 15 |\n",
    "| 16 | ?  |\n",
    "\n",
    "Even though you weren't told what the relationship is between $x$ and $y$, you were able to analyze the data and find a mapping $f$ from $x$ to $y$, which allowed you to predict $f(16)$. For certain tasks, this comes somewhat naturally to humans, but computers need to be programmed to know *how* to look for patterns.  \n",
    "Let's briefly cover arguably the simplest algorithm that falls under the umbrella of machine learning: linear regression- or, as you might be more familiar with it, line of best fit."
   ]
  },
  {
   "cell_type": "markdown",
   "id": "32972ac9",
   "metadata": {},
   "source": [
    "### A MACHINE LEARNING ALGORITHM IS ESSENTIALLY A FUNCTION FITTER!\n",
    "\n",
    "Given data, how do I find the parameters characterizing a function that can fit this data?"
   ]
  },
  {
   "cell_type": "markdown",
   "id": "34485084",
   "metadata": {},
   "source": [
    "### Linear Regression\n",
    "\n",
    "<img src=\"https://imgs.xkcd.com/comics/linear_regression.png\" width=\"400px\">\n",
    "\n",
    "**Linear regression** tries to find a **linear relationship** between X and y data. If we go back to our previous example of $x$ and $y$, this means that the model will try to find a line $\\hat{y} = mx + b$ such that $\\hat{y} \\approx y$, i.e. the model **fits** the data best.\n",
    "\n",
    "$$ \\hat{y} = mx + b $$\n",
    "\n",
    "Some questions this raises:\n",
    "\n",
    "> Which **parameters** does the model need to **learn**?\n",
    "\n",
    "In this case, the slope $m$ and y-intercept $b$.\n",
    "\n",
    "> How will the model find those parameters?\n",
    "\n",
    "> What does it mean for the model to **fit the data best**?\n",
    "\n",
    "We'll hold off on answering this question, but it's worth thinking about. First, let's consider which parameters the model is trying to find in this case.\n",
    "\n",
    "Here's our training data again:\n",
    "\n",
    "| x  | y  |\n",
    "-----|-----\n",
    "| 2  | 5  |\n",
    "| 21 | 43 |\n",
    "| 36 | 73 |\n",
    "| 7  | 15 |\n",
    "\n",
    "> What values of $m$ and $b$ is the model trying to find?\n",
    "\n",
    "$m = 2$ and $b = 1$. This would make our model $\\hat{y} = 2x + 1$, which would fit our data perfectly (the hat above the $y$ means its an estimate). Then, using this model, we can make predictions, or **inferences**:\n",
    "\n",
    "$$ f(16) = 2(16) + 1 = 33 $$\n",
    "\n",
    "We glossed over **how** the model found those values, but we fit a linear regression model to our data, and used it to make an inference. The key takeaways are this:\n",
    "\n",
    "- Machine learning models learn relationships in data.\n",
    "- As the ML engineer, you choose the right model for your data.\n",
    "    - In this case, there was a perfectly linear relationship betwen $x$ and $y$, so linear regression is a good choice. If it were exponential, say, the linear regression model would fit the data poorly and make poor inferences.\n",
    "- The ML model has **trainable parameters**; that is, parameters that the model **learns on its own from the data**.\n",
    "    - In this case, there were two trainable parameters: $m$ and $b$.\n",
    "- The ML model follows an algorithm to find the parameters that **best fit** the data it's trained on.\n",
    "    - We'll learn exactly what that means in a later session!\n",
    "\n",
    "<img src=\"https://www.musictech.net/wp-content/uploads/2020/05/Radius-2-.jpg\" width=\"500px\">\n",
    "<div style=\"width: 100%; text-align: center; font-style: italic;\">\n",
    "\n",
    "Think of trainable parameters like knobs on a machine- some combination of values will be optimal, and the model follows an algorithm to find them</div>\n"
   ]
  },
  {
   "cell_type": "markdown",
   "id": "a7f1bd14",
   "metadata": {},
   "source": [
    "### So... what about Deep Learning?\n",
    "\n",
    "Deep Learning is a subset of Machine Learning, and is nearly synonymous with Neural Networks. We'll cover them in more detail in a later session, but suffice to say it's just another class of machine learning algorithms that have become very popular in recent years due to their ability to learn very complex patterns with (lots of) data. That being said, they're not sentient robots- like most machine learning algorithms, they're just very good function approximators.\n",
    "\n",
    "<img src=\"https://assets.website-files.com/5fb24a974499e90dae242d98/5fb24a974499e96f7b2431db_AI%20venn%20diagram.png\" width=\"500px\">"
   ]
  },
  {
   "cell_type": "markdown",
   "id": "7b6c07b0",
   "metadata": {},
   "source": [
    "## 2. A typical machine learning problem and solution\n",
    "\n",
    "Now's probably a good time to talk about which problems could use machine learning and which don't. Based on what you've learned so far, try to classify the following problems as `ML` or `not ML` problems.\n",
    "\n",
    "I want a computer to...\n",
    "1. calculate BMI from patients' weight and height\n",
    "2. predict forest fires from locational data (e.g. humidity, precipitation, season, etc.)\n",
    "3. translate between English and Spanish\n",
    "4. translate between English and Morse Code\n",
    "5. identify the genre of songs directly from the audio\n",
    "6. play tic-tac-toe\n",
    "7. estimate the price of a house given a picture of it\n",
    "\n",
    "```\n",
    "[!!!] ANSWERS BELOW [!!!]\n",
    "\n",
    "1. Not ML; BMI = mass / height^2\n",
    "2. ML; no precise algorithm to determine this but information in data might be able to predict forest fires\n",
    "3. ML; word-level translation is algorithmic, but not sentence-level translation\n",
    "4. Not ML; each letter can be directly converted to Morse and vice versa\n",
    "5. ML; complex relationships in audio features might suggest a genre, but there is no definite algorithm\n",
    "6. Bit of a trick question- not (necessarily) ML; there is a known optimal strategy for X and O\n",
    "7. ML; image features might suggest a price range but will likely require ML to extract\n",
    "```\n",
    "\n",
    "Note that it's not necessarily clear-cut in every situation. For example, if you want to find an optimal path from point A to point B (think Google Maps), there is an algorithm called **Dijkstra's Algorithm** that finds the least expensive path between two points given \"roads\" their respective \"costs\". That being said, in real life there are often dozens of other variables, like the time of day, day of the week, amount of traffic, weather, and construction. In these cases, an algorithm might be supplemented with ML algorithms."
   ]
  },
  {
   "cell_type": "markdown",
   "id": "25a2f0e0",
   "metadata": {},
   "source": [
    "Okay, back to the original topic: a typical machine learning problem and solution. Here goes:\n",
    "\n",
    "**HIGH LEVEL**\n",
    "1. Have a problem\n",
    "2. Acquire data\n",
    "3. Train a machine learning model on said data\n",
    "4. Evaluate model and iterate on solution\n",
    "\n",
    "**MEDIUM LEVEL**\n",
    "1. Have a problem\n",
    "    1. Determine whether the problem even needs machine learning\n",
    "    2. If it's not a new problem, read up on what other people have tried\n",
    "2. Acquire data\n",
    "    1. Get as much data as you can pertaining to your problem\n",
    "    2. Explore and visualize your data to become most familiar with what your model will try to learn\n",
    "    3. Clean data (remove bad or useless data)\n",
    "    4. Process / feature engineer data (make as \"learnable\" as possible)\n",
    "3. Train a machine learning model on said data\n",
    "    1. Choose a domain of ML to try (e.g. classification, regression, reinforcement learning)\n",
    "    2. Choose a machine learning algorithm to use (or design your own!)\n",
    "    3. Train baseline model on data\n",
    "4. Evaluate model and iterate on solution\n",
    "    1. Check metrics e.g. accuracy, precision & recall, sensitivity & specificity\n",
    "    2. Tune hyperparameters\n",
    "    3. Improve data quality\n",
    "    4. Try other models / change model architecture\n",
    "    \n",
    "There are many details missing from this schematic, but it gives a sense of how these problems are typically approached. As we move forward, we'll refer back to this workflow!"
   ]
  },
  {
   "cell_type": "markdown",
   "id": "d9c93ad5",
   "metadata": {},
   "source": [
    "## 3. The coding environment\n",
    "\n",
    "<img src=\"https://external-preview.redd.it/x3_gxnFSyB9nhAfWu0k6OdiOXmRdyfsBnaODGM94NRw.jpg?auto=webp&s=f7d788cbb356acad0f118567c23fbf27d7867bd4\" width=\"500px\">\n",
    "\n",
    "One of the strongest aspects of Python is its rich library support, especially when it comes to machine learning. Some of the most popular libraries for ML include:\n",
    "\n",
    "- `numpy`: pretty much the go-to library for anything linear algebra related (i.e. vectors, matrices, etc.)\n",
    "- `scikit-learn`: a great library for non-deep learning machine algorithms like decision trees, logicistic regression, etc.\n",
    "- `tensorflow`: a very powerful library developed by Google for deep learning\n",
    "- `keras`: an API built on top of `tensorflow` that provides more user-friendly ways to build deep learning models"
   ]
  },
  {
   "cell_type": "markdown",
   "id": "87dc05e0",
   "metadata": {},
   "source": [
    "We can really leverage the power of Python libraries by using the Keras API to build a deep learning model with just a few lines of code- don't worry about understanding it yet, it's just to show how powerful Keras and Tensorflow are (but you will by the end of the workshops!)"
   ]
  },
  {
   "cell_type": "code",
   "execution_count": 1,
   "id": "beb8254c",
   "metadata": {
    "scrolled": true
   },
   "outputs": [
    {
     "name": "stdout",
     "output_type": "stream",
     "text": [
      "Requirement already satisfied: tensorflow in c:\\users\\tyxia\\appdata\\local\\programs\\python\\python38\\lib\\site-packages (2.8.0)\n",
      "Requirement already satisfied: keras<2.9,>=2.8.0rc0 in c:\\users\\tyxia\\appdata\\local\\programs\\python\\python38\\lib\\site-packages (from tensorflow) (2.8.0)\n",
      "Requirement already satisfied: tensorflow-io-gcs-filesystem>=0.23.1 in c:\\users\\tyxia\\appdata\\local\\programs\\python\\python38\\lib\\site-packages (from tensorflow) (0.24.0)\n",
      "Requirement already satisfied: tensorboard<2.9,>=2.8 in c:\\users\\tyxia\\appdata\\local\\programs\\python\\python38\\lib\\site-packages (from tensorflow) (2.8.0)\n",
      "Requirement already satisfied: keras-preprocessing>=1.1.1 in c:\\users\\tyxia\\appdata\\local\\programs\\python\\python38\\lib\\site-packages (from tensorflow) (1.1.2)\n",
      "Requirement already satisfied: google-pasta>=0.1.1 in c:\\users\\tyxia\\appdata\\local\\programs\\python\\python38\\lib\\site-packages (from tensorflow) (0.2.0)\n",
      "Requirement already satisfied: typing-extensions>=3.6.6 in c:\\users\\tyxia\\appdata\\local\\programs\\python\\python38\\lib\\site-packages (from tensorflow) (4.0.1)\n",
      "Requirement already satisfied: absl-py>=0.4.0 in c:\\users\\tyxia\\appdata\\local\\programs\\python\\python38\\lib\\site-packages (from tensorflow) (1.0.0)\n",
      "Requirement already satisfied: protobuf>=3.9.2 in c:\\users\\tyxia\\appdata\\local\\programs\\python\\python38\\lib\\site-packages (from tensorflow) (3.19.4)\n",
      "Requirement already satisfied: six>=1.12.0 in c:\\users\\tyxia\\appdata\\local\\programs\\python\\python38\\lib\\site-packages (from tensorflow) (1.16.0)\n",
      "Requirement already satisfied: gast>=0.2.1 in c:\\users\\tyxia\\appdata\\local\\programs\\python\\python38\\lib\\site-packages (from tensorflow) (0.5.3)\n",
      "Requirement already satisfied: setuptools in c:\\users\\tyxia\\appdata\\local\\programs\\python\\python38\\lib\\site-packages (from tensorflow) (65.4.0)\n",
      "Requirement already satisfied: wrapt>=1.11.0 in c:\\users\\tyxia\\appdata\\local\\programs\\python\\python38\\lib\\site-packages (from tensorflow) (1.13.3)\n",
      "Requirement already satisfied: opt-einsum>=2.3.2 in c:\\users\\tyxia\\appdata\\local\\programs\\python\\python38\\lib\\site-packages (from tensorflow) (3.3.0)\n",
      "Requirement already satisfied: h5py>=2.9.0 in c:\\users\\tyxia\\appdata\\local\\programs\\python\\python38\\lib\\site-packages (from tensorflow) (3.6.0)\n",
      "Requirement already satisfied: astunparse>=1.6.0 in c:\\users\\tyxia\\appdata\\local\\programs\\python\\python38\\lib\\site-packages (from tensorflow) (1.6.3)\n",
      "Requirement already satisfied: tf-estimator-nightly==2.8.0.dev2021122109 in c:\\users\\tyxia\\appdata\\local\\programs\\python\\python38\\lib\\site-packages (from tensorflow) (2.8.0.dev2021122109)\n",
      "Requirement already satisfied: termcolor>=1.1.0 in c:\\users\\tyxia\\appdata\\local\\programs\\python\\python38\\lib\\site-packages (from tensorflow) (1.1.0)\n",
      "Requirement already satisfied: numpy>=1.20 in c:\\users\\tyxia\\appdata\\local\\programs\\python\\python38\\lib\\site-packages (from tensorflow) (1.21.4)\n",
      "Requirement already satisfied: libclang>=9.0.1 in c:\\users\\tyxia\\appdata\\local\\programs\\python\\python38\\lib\\site-packages (from tensorflow) (13.0.0)\n",
      "Requirement already satisfied: flatbuffers>=1.12 in c:\\users\\tyxia\\appdata\\local\\programs\\python\\python38\\lib\\site-packages (from tensorflow) (2.0)\n",
      "Requirement already satisfied: grpcio<2.0,>=1.24.3 in c:\\users\\tyxia\\appdata\\local\\programs\\python\\python38\\lib\\site-packages (from tensorflow) (1.44.0)\n",
      "Requirement already satisfied: wheel<1.0,>=0.23.0 in c:\\users\\tyxia\\appdata\\local\\programs\\python\\python38\\lib\\site-packages (from astunparse>=1.6.0->tensorflow) (0.37.1)\n",
      "Requirement already satisfied: werkzeug>=0.11.15 in c:\\users\\tyxia\\appdata\\local\\programs\\python\\python38\\lib\\site-packages (from tensorboard<2.9,>=2.8->tensorflow) (2.0.3)\n",
      "Requirement already satisfied: requests<3,>=2.21.0 in c:\\users\\tyxia\\appdata\\local\\programs\\python\\python38\\lib\\site-packages (from tensorboard<2.9,>=2.8->tensorflow) (2.27.1)\n",
      "Requirement already satisfied: tensorboard-data-server<0.7.0,>=0.6.0 in c:\\users\\tyxia\\appdata\\local\\programs\\python\\python38\\lib\\site-packages (from tensorboard<2.9,>=2.8->tensorflow) (0.6.1)\n",
      "Requirement already satisfied: google-auth<3,>=1.6.3 in c:\\users\\tyxia\\appdata\\local\\programs\\python\\python38\\lib\\site-packages (from tensorboard<2.9,>=2.8->tensorflow) (2.6.0)\n",
      "Requirement already satisfied: markdown>=2.6.8 in c:\\users\\tyxia\\appdata\\local\\programs\\python\\python38\\lib\\site-packages (from tensorboard<2.9,>=2.8->tensorflow) (3.3.6)\n",
      "Requirement already satisfied: tensorboard-plugin-wit>=1.6.0 in c:\\users\\tyxia\\appdata\\local\\programs\\python\\python38\\lib\\site-packages (from tensorboard<2.9,>=2.8->tensorflow) (1.8.1)\n",
      "Requirement already satisfied: google-auth-oauthlib<0.5,>=0.4.1 in c:\\users\\tyxia\\appdata\\local\\programs\\python\\python38\\lib\\site-packages (from tensorboard<2.9,>=2.8->tensorflow) (0.4.6)\n",
      "Requirement already satisfied: pyasn1-modules>=0.2.1 in c:\\users\\tyxia\\appdata\\local\\programs\\python\\python38\\lib\\site-packages (from google-auth<3,>=1.6.3->tensorboard<2.9,>=2.8->tensorflow) (0.2.8)\n",
      "Requirement already satisfied: cachetools<6.0,>=2.0.0 in c:\\users\\tyxia\\appdata\\local\\programs\\python\\python38\\lib\\site-packages (from google-auth<3,>=1.6.3->tensorboard<2.9,>=2.8->tensorflow) (5.0.0)\n",
      "Requirement already satisfied: rsa<5,>=3.1.4 in c:\\users\\tyxia\\appdata\\local\\programs\\python\\python38\\lib\\site-packages (from google-auth<3,>=1.6.3->tensorboard<2.9,>=2.8->tensorflow) (4.8)\n",
      "Requirement already satisfied: requests-oauthlib>=0.7.0 in c:\\users\\tyxia\\appdata\\local\\programs\\python\\python38\\lib\\site-packages (from google-auth-oauthlib<0.5,>=0.4.1->tensorboard<2.9,>=2.8->tensorflow) (1.3.1)\n",
      "Requirement already satisfied: importlib-metadata>=4.4 in c:\\users\\tyxia\\appdata\\local\\programs\\python\\python38\\lib\\site-packages (from markdown>=2.6.8->tensorboard<2.9,>=2.8->tensorflow) (4.11.2)\n",
      "Requirement already satisfied: idna<4,>=2.5 in c:\\users\\tyxia\\appdata\\local\\programs\\python\\python38\\lib\\site-packages (from requests<3,>=2.21.0->tensorboard<2.9,>=2.8->tensorflow) (3.3)\n",
      "Requirement already satisfied: charset-normalizer~=2.0.0 in c:\\users\\tyxia\\appdata\\local\\programs\\python\\python38\\lib\\site-packages (from requests<3,>=2.21.0->tensorboard<2.9,>=2.8->tensorflow) (2.0.12)\n",
      "Requirement already satisfied: certifi>=2017.4.17 in c:\\users\\tyxia\\appdata\\local\\programs\\python\\python38\\lib\\site-packages (from requests<3,>=2.21.0->tensorboard<2.9,>=2.8->tensorflow) (2021.10.8)\n",
      "Requirement already satisfied: urllib3<1.27,>=1.21.1 in c:\\users\\tyxia\\appdata\\local\\programs\\python\\python38\\lib\\site-packages (from requests<3,>=2.21.0->tensorboard<2.9,>=2.8->tensorflow) (1.26.8)\n",
      "Requirement already satisfied: zipp>=0.5 in c:\\users\\tyxia\\appdata\\local\\programs\\python\\python38\\lib\\site-packages (from importlib-metadata>=4.4->markdown>=2.6.8->tensorboard<2.9,>=2.8->tensorflow) (3.6.0)\n",
      "Requirement already satisfied: pyasn1<0.5.0,>=0.4.6 in c:\\users\\tyxia\\appdata\\local\\programs\\python\\python38\\lib\\site-packages (from pyasn1-modules>=0.2.1->google-auth<3,>=1.6.3->tensorboard<2.9,>=2.8->tensorflow) (0.4.8)\n",
      "Requirement already satisfied: oauthlib>=3.0.0 in c:\\users\\tyxia\\appdata\\local\\programs\\python\\python38\\lib\\site-packages (from requests-oauthlib>=0.7.0->google-auth-oauthlib<0.5,>=0.4.1->tensorboard<2.9,>=2.8->tensorflow) (3.2.0)\n",
      "Requirement already satisfied: keras-visualizer in c:\\users\\tyxia\\appdata\\local\\programs\\python\\python38\\lib\\site-packages (2.4)\n",
      "Requirement already satisfied: visualkeras in c:\\users\\tyxia\\appdata\\local\\programs\\python\\python38\\lib\\site-packages (0.0.2)\n",
      "Requirement already satisfied: aggdraw>=1.3.11 in c:\\users\\tyxia\\appdata\\local\\programs\\python\\python38\\lib\\site-packages (from visualkeras) (1.3.15)\n",
      "Requirement already satisfied: pillow>=6.2.0 in c:\\users\\tyxia\\appdata\\local\\programs\\python\\python38\\lib\\site-packages (from visualkeras) (8.4.0)\n",
      "Requirement already satisfied: numpy>=1.18.1 in c:\\users\\tyxia\\appdata\\local\\programs\\python\\python38\\lib\\site-packages (from visualkeras) (1.21.4)\n"
     ]
    }
   ],
   "source": [
    "!pip install tensorflow\n",
    "!pip install keras-visualizer\n",
    "!pip install visualkeras"
   ]
  },
  {
   "cell_type": "code",
   "execution_count": 2,
   "id": "0b165f2c",
   "metadata": {},
   "outputs": [],
   "source": [
    "# Machine learning engineers will make fun of you if you do not rename tensorflow to tf\n",
    "import visualkeras\n",
    "from tensorflow.keras import models, layers\n",
    "from PIL import ImageFont\n",
    "from tensorflow import keras\n",
    "from keras.models import Sequential\n",
    "from tensorflow.keras.layers import Input, Conv2D, Dense, Flatten, Dropout\n",
    "from tensorflow.keras.layers import GlobalMaxPooling2D, MaxPooling2D\n",
    "from tensorflow.keras.models import Model\n",
    "from tensorflow.keras import regularizers, optimizers\n",
    "\n",
    "font = ImageFont.truetype(\"arial.ttf\", 12)"
   ]
  },
  {
   "cell_type": "code",
   "execution_count": 3,
   "id": "0e2abe3a",
   "metadata": {},
   "outputs": [
    {
     "name": "stdout",
     "output_type": "stream",
     "text": [
      "Model: \"sequential\"\n",
      "_________________________________________________________________\n",
      " Layer (type)                Output Shape              Param #   \n",
      "=================================================================\n",
      " conv2d (Conv2D)             (None, 32, 32, 64)        3136      \n",
      "                                                                 \n",
      " max_pooling2d (MaxPooling2D  (None, 16, 16, 64)       0         \n",
      " )                                                               \n",
      "                                                                 \n",
      " conv2d_1 (Conv2D)           (None, 16, 16, 128)       131200    \n",
      "                                                                 \n",
      " max_pooling2d_1 (MaxPooling  (None, 8, 8, 128)        0         \n",
      " 2D)                                                             \n",
      "                                                                 \n",
      "=================================================================\n",
      "Total params: 134,336\n",
      "Trainable params: 134,336\n",
      "Non-trainable params: 0\n",
      "_________________________________________________________________\n"
     ]
    }
   ],
   "source": [
    "# Define model architecture\n",
    "model = Sequential()\n",
    "model.add(Conv2D(64,(4,4),input_shape=(32,32,3),activation='relu',padding='same'))\n",
    "model.add(MaxPooling2D(pool_size=(2,2)))\n",
    "model.add(Conv2D(128,(4,4),input_shape=(32,32,3),activation='relu',padding='same'))\n",
    "model.add(MaxPooling2D(pool_size=(2,2)))\n",
    "# Print model summary\n",
    "model.summary()"
   ]
  },
  {
   "cell_type": "code",
   "execution_count": 4,
   "id": "ea81115e",
   "metadata": {},
   "outputs": [
    {
     "data": {
      "image/png": "[encoded data removed]",
      "text/plain": [
       "<PIL.Image.Image image mode=RGBA size=157x239 at 0x242C72FCF10>"
      ]
     },
     "execution_count": 4,
     "metadata": {},
     "output_type": "execute_result"
    }
   ],
   "source": [
    "# Compile model\n",
    "model.compile(loss=\"binary_crossentropy\", optimizer=\"adam\", metrics=[\"accuracy\"])\n",
    "visualkeras.layered_view(model, legend=True, font=font)"
   ]
  },
  {
   "cell_type": "markdown",
   "id": "5d34b1b2",
   "metadata": {},
   "source": [
    "And that's it!"
   ]
  },
  {
   "cell_type": "markdown",
   "id": "04261430",
   "metadata": {},
   "source": [
    "# Bias"
   ]
  },
  {
   "cell_type": "markdown",
   "id": "c9cc8bb8",
   "metadata": {},
   "source": [
    "### These tools are incredibly powerful, but they are not flawless!\n",
    "\n",
    "#### Shortcomings of Models\n",
    "- Only as good as your data\n",
    "- Some are black boxes\n",
    "- Can only do what they are built to do\n",
    "- Not everything can be replaced with ML!"
   ]
  },
  {
   "cell_type": "markdown",
   "id": "c3fafacf",
   "metadata": {},
   "source": [
    "## Biased Data\n",
    "\n",
    "- Who has labeled the training data?\n",
    "- What lens are we viewing the data through?\n",
    "- Is our data varied enough?"
   ]
  },
  {
   "cell_type": "markdown",
   "id": "642a9a3e",
   "metadata": {},
   "source": [
    "### Case Study: Labeling Animals\n",
    "\n",
    "<img src=\"uncategorizable_demo.jpg\" style=\"height:300px\">"
   ]
  },
  {
   "cell_type": "markdown",
   "id": "8ade7b20",
   "metadata": {},
   "source": [
    "What happens when this is the input?\n",
    "\n",
    "<img src=\"beef-noodle.png\" style=\"height:250px\">"
   ]
  },
  {
   "cell_type": "markdown",
   "id": "9a6cb8a8",
   "metadata": {},
   "source": [
    "### Case Study: The Zebra - Fish Problem"
   ]
  },
  {
   "cell_type": "markdown",
   "id": "38592764",
   "metadata": {},
   "source": [
    "Lets build a classifier:\n",
    "- Zebra or Fish?"
   ]
  },
  {
   "cell_type": "markdown",
   "id": "6ebaff08",
   "metadata": {},
   "source": [
    "What is this?\n",
    "\n",
    "<img src=\"zebra.jpg\" style=\"height:300px\">"
   ]
  },
  {
   "cell_type": "markdown",
   "id": "73c83075",
   "metadata": {},
   "source": [
    "What is this?\n",
    "\n",
    "<img src=\"fish.jpg\" style=\"height:300px\">"
   ]
  },
  {
   "cell_type": "markdown",
   "id": "62111659",
   "metadata": {},
   "source": [
    "What is this?\n",
    "\n",
    "<img src=\"zebra_angelfish.jpg\" style=\"height:300px\">\n",
    "\n",
    "### UH OH"
   ]
  },
  {
   "cell_type": "markdown",
   "id": "0a1dfa9f",
   "metadata": {},
   "source": [
    "### How to be a Responsible Citizen\n",
    "\n",
    "- Understand how your data may be shaped by biases\n",
    "- Understand what your inputs are\n",
    "- Build a diverse data-set\n",
    "- Understand the limitations of your model"
   ]
  },
  {
   "cell_type": "markdown",
   "id": "b8f3f46f",
   "metadata": {},
   "source": []
  }
 ],
 "metadata": {
  "kernelspec": {
   "display_name": "Python 3.8.10 64-bit",
   "language": "python",
   "name": "python3"
  },
  "language_info": {
   "codemirror_mode": {
    "name": "ipython",
    "version": 3
   },
   "file_extension": ".py",
   "mimetype": "text/x-python",
   "name": "python",
   "nbconvert_exporter": "python",
   "pygments_lexer": "ipython3",
   "version": "3.8.10"
  },
  "vscode": {
   "interpreter": {
    "hash": "8c9d00ddaa79aa68c3a541f4a79b3085c4c0d74dc6caab7ebd7301921f5b4803"
   }
  }
 },
 "nbformat": 4,
 "nbformat_minor": 5
}
