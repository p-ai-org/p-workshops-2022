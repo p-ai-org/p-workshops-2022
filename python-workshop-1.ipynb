{
 "cells": [
  {
   "cell_type": "markdown",
   "id": "55ef1de1",
   "metadata": {},
   "source": [
    "# P-ai Intro to Python and Git\n",
    "\n",
    "Welcome to P-ai's first session of the workshop series! Today we'll learn about\n",
    "- The coding environment, installing packages, getting started\n",
    "- Python crash course\n",
    "- Getting started with Git\n",
    "<img src=\"https://images.squarespace-cdn.com/content/5d5aca05ce74150001a5af3e/1580018583262-NKE94RECI46GRULKS152/Screen+Shot+2019-12-05+at+11.18.53+AM.png?content-type=image%2Fpng\" width=\"200px\">"
   ]
  },
  {
   "cell_type": "markdown",
   "id": "ec517760",
   "metadata": {},
   "source": [
    "Now, for some FAQs about the Python development environment...\n",
    "\n",
    "> Which IDE (editor) should I use?\n",
    "\n",
    "If you're looking for a no-nonsense IDE for programming in general, VSCode is a great place to start. Other common options include Atom, PyCharm, and SublimeText.\n",
    "\n",
    "> I downloaded Python 3, but my computer is still running my Python files with Python 2 and causing errors. What's the deal?\n",
    "\n",
    "When you run a command like `python script.py`, your computer probably defaults to Python 2.x. You can explicitly use Python 3.x by running `python3 scripy.py` instead. Same goes for `pip`- you may need to explicitly use `pip3` instead of regular `pip` if you're not in a Python 3.x environment.\n",
    "\n",
    "> I'm getting an error when installing packages with pip / `import`ing libraries in Python. Why could that be?\n",
    "\n",
    "This is usually a mismatch between the version of Python you're using and the supported versions of the package you're installing. For example, the newest versions of most libraries don't support Python 2.x. To install a specific version of a library, you can run `pip install [library name]==[version]`."
   ]
  },
  {
   "cell_type": "markdown",
   "id": "a31f974d",
   "metadata": {},
   "source": [
    "# Python crash course\n"
   ]
  },
  {
   "cell_type": "markdown",
   "id": "370f0369",
   "metadata": {},
   "source": [
    "\n",
    "### Variables, numbers, and strings"
   ]
  },
  {
   "cell_type": "code",
   "execution_count": null,
   "id": "134aa966",
   "metadata": {},
   "outputs": [],
   "source": [
    "# x is a variable. I set its value to the number 5\n",
    "x = 12\n",
    "print(x)"
   ]
  },
  {
   "cell_type": "code",
   "execution_count": null,
   "id": "29a77126",
   "metadata": {},
   "outputs": [],
   "source": [
    "y = 5\n",
    "# Addition\n",
    "z = x + y\n",
    "print(z)"
   ]
  },
  {
   "cell_type": "code",
   "execution_count": null,
   "id": "8c452da0",
   "metadata": {},
   "outputs": [],
   "source": [
    "# Subtraction\n",
    "print(x - y)\n",
    "# Multiplication\n",
    "print(x * y)\n",
    "# Division\n",
    "print(x / y)\n",
    "# Integer division\n",
    "print(x // y)\n",
    "# Modulus operator (remainder function)\n",
    "print(x % y)\n",
    "# Exponentiation\n",
    "print(x ** y)"
   ]
  },
  {
   "cell_type": "code",
   "execution_count": null,
   "id": "dc217367",
   "metadata": {},
   "outputs": [],
   "source": [
    "# You can also change a variable's value in-place by using +=, -=, /=, etc.\n",
    "x = 10\n",
    "print(x)\n",
    "# Equivalent to x = x + 1\n",
    "x += 1\n",
    "print(x)"
   ]
  },
  {
   "cell_type": "code",
   "execution_count": 1,
   "id": "7006787e",
   "metadata": {},
   "outputs": [
    {
     "name": "stdout",
     "output_type": "stream",
     "text": [
      "I am a string\n",
      "True\n"
     ]
    }
   ],
   "source": [
    "# Strings are strings of characters, aka text\n",
    "# They are denoted with double quotes (\"\") or single quotes ('')\n",
    "string1 = \"I am a string\"\n",
    "string2 = 'I am a string'\n",
    "print(string1)\n",
    "print(string1 == string2)"
   ]
  },
  {
   "cell_type": "code",
   "execution_count": 2,
   "id": "4856e3de",
   "metadata": {},
   "outputs": [
    {
     "name": "stdout",
     "output_type": "stream",
     "text": [
      "Machine Learning\n"
     ]
    }
   ],
   "source": [
    "# There are plenty of operations you can do on strings, too\n",
    "# For example, this is concatenation\n",
    "string1 = \"Machine\"\n",
    "string2 = \"Learning\"\n",
    "print(string1 + \" \" + string2)"
   ]
  },
  {
   "cell_type": "markdown",
   "id": "e1059442",
   "metadata": {},
   "source": [
    "### Lists and indexing"
   ]
  },
  {
   "cell_type": "code",
   "execution_count": 3,
   "id": "15d1cdaf",
   "metadata": {},
   "outputs": [
    {
     "name": "stdout",
     "output_type": "stream",
     "text": [
      "[1, 2, 3, 'one', 'two', 'three']\n"
     ]
    }
   ],
   "source": [
    "# If you want to store a list of things, you can use... a list!\n",
    "# They're denoted with square brackets []\n",
    "\n",
    "list1 = [1, 2, 3]\n",
    "list2 = [\"one\", \"two\", \"three\"]\n",
    "\n",
    "# List concatenation\n",
    "print(list1 + list2)"
   ]
  },
  {
   "cell_type": "code",
   "execution_count": 4,
   "id": "97566366",
   "metadata": {},
   "outputs": [
    {
     "data": {
      "text/plain": [
       "4"
      ]
     },
     "execution_count": 4,
     "metadata": {},
     "output_type": "execute_result"
    }
   ],
   "source": [
    "# To get the length of a list, use len()\n",
    "lst = [\"there\", \"are\", \"four\", \"items\"]\n",
    "len(lst)"
   ]
  },
  {
   "cell_type": "code",
   "execution_count": 5,
   "id": "2bb23842",
   "metadata": {},
   "outputs": [
    {
     "name": "stdout",
     "output_type": "stream",
     "text": [
      "[1, 2, 3]\n"
     ]
    }
   ],
   "source": [
    "# You can also start with a list and add items with append()\n",
    "\n",
    "# Empty array\n",
    "lst = []\n",
    "\n",
    "lst.append(1)\n",
    "lst.append(2)\n",
    "lst.append(3)\n",
    "print(lst)"
   ]
  },
  {
   "cell_type": "markdown",
   "id": "e59b4fdf",
   "metadata": {},
   "source": [
    "There are other list functions that come in handy. For example, find the first index of a value in a list with `.index()`, or remove the first instance of a value with `.remove()`. Check out https://www.w3schools.com/python/python_ref_list.asp to see a complete list."
   ]
  },
  {
   "cell_type": "code",
   "execution_count": 6,
   "id": "4c61e1c7",
   "metadata": {},
   "outputs": [
    {
     "name": "stdout",
     "output_type": "stream",
     "text": [
      "1\n",
      "2\n",
      "8\n"
     ]
    }
   ],
   "source": [
    "# Items in lists can be accessed by their index\n",
    "# Like most languages, Python is 0-indexed. That means that the index of the first item is 0, the second is 1, etc.\n",
    "\n",
    "fibonacci = [1, 1, 2, 3, 5, 8, 13, 21]\n",
    "# Indexes:   0  1  2  3  4  5  6   7\n",
    "\n",
    "print(fibonacci[0])\n",
    "print(fibonacci[2])\n",
    "print(fibonacci[5])"
   ]
  },
  {
   "cell_type": "code",
   "execution_count": 7,
   "id": "42878a77",
   "metadata": {},
   "outputs": [
    {
     "name": "stdout",
     "output_type": "stream",
     "text": [
      "21\n",
      "13\n"
     ]
    }
   ],
   "source": [
    "# Python also lets you get the last items in a list by using negative numbers as indexes\n",
    "\n",
    "# Last item\n",
    "print(fibonacci[-1])\n",
    "# Second to last item\n",
    "print(fibonacci[-2])"
   ]
  },
  {
   "cell_type": "code",
   "execution_count": 8,
   "id": "09a7e366",
   "metadata": {},
   "outputs": [
    {
     "name": "stdout",
     "output_type": "stream",
     "text": [
      "['Mar', 'Apr']\n"
     ]
    }
   ],
   "source": [
    "# You can also \"slice\" parts of a list using a colon (:)\n",
    "# The syntax is [a:b], where index a is included in the interval and index b is EXCLUDED\n",
    "\n",
    "months = [\"Jan\", \"Feb\", \"Mar\", \"Apr\", \"May\", \"Jun\", \"Jul\", \"Aug\", \"Sep\", \"Oct\", \"Nov\", \"Dec\"]\n",
    "# Indexes: 0      1      2      3      4      5      6      7      8      9      10     11\n",
    "\n",
    "# Month 2 up until but not including month 4\n",
    "print(months[2:4])"
   ]
  },
  {
   "cell_type": "code",
   "execution_count": 9,
   "id": "7ea490ec",
   "metadata": {},
   "outputs": [
    {
     "name": "stdout",
     "output_type": "stream",
     "text": [
      "['Jun', 'Jul', 'Aug', 'Sep', 'Oct', 'Nov', 'Dec']\n"
     ]
    }
   ],
   "source": [
    "# Month 5 up until the end\n",
    "print(months[5:])"
   ]
  },
  {
   "cell_type": "code",
   "execution_count": 10,
   "id": "0a341c15",
   "metadata": {},
   "outputs": [
    {
     "name": "stdout",
     "output_type": "stream",
     "text": [
      "['Jan', 'Feb', 'Mar', 'Apr', 'May', 'Jun', 'Jul', 'Aug']\n"
     ]
    }
   ],
   "source": [
    "# Month 0 up until but not including month 8\n",
    "print(months[:8])"
   ]
  },
  {
   "cell_type": "code",
   "execution_count": 11,
   "id": "698681da",
   "metadata": {},
   "outputs": [
    {
     "name": "stdout",
     "output_type": "stream",
     "text": [
      "['Apr', 'May', 'Jun', 'Jul', 'Aug', 'Sep', 'Oct', 'Nov']\n"
     ]
    }
   ],
   "source": [
    "# Month 3 up until but not including the last month\n",
    "print(months[3:-1])"
   ]
  },
  {
   "cell_type": "code",
   "execution_count": 12,
   "id": "da3e6a46",
   "metadata": {},
   "outputs": [
    {
     "name": "stdout",
     "output_type": "stream",
     "text": [
      "['Feb', 'Apr', 'Jun', 'Aug']\n"
     ]
    }
   ],
   "source": [
    "# You can also include a step size with another colon\n",
    "# Every other month from month 1 up to but not including month 9\n",
    "print(months[1:9:2])"
   ]
  },
  {
   "cell_type": "markdown",
   "id": "0f6aecbe",
   "metadata": {},
   "source": [
    "### Booleans and control flow"
   ]
  },
  {
   "cell_type": "code",
   "execution_count": 13,
   "id": "1c59dd37",
   "metadata": {},
   "outputs": [
    {
     "name": "stdout",
     "output_type": "stream",
     "text": [
      "False\n"
     ]
    }
   ],
   "source": [
    "# Boolean values can be either True or False\n",
    "\n",
    "darkModeIsGood = True\n",
    "machineLearningIsMagic = False\n",
    "\n",
    "print(machineLearningIsMagic)"
   ]
  },
  {
   "cell_type": "code",
   "execution_count": 14,
   "id": "f3aab95b",
   "metadata": {},
   "outputs": [
    {
     "name": "stdout",
     "output_type": "stream",
     "text": [
      "False\n",
      "True\n",
      "False\n"
     ]
    }
   ],
   "source": [
    "# You can work with booleans using boolean operators like not, and, and or\n",
    "\n",
    "print(not True)\n",
    "print(True or False)\n",
    "print(False and True)"
   ]
  },
  {
   "cell_type": "code",
   "execution_count": 15,
   "id": "eb462b32",
   "metadata": {},
   "outputs": [
    {
     "name": "stdout",
     "output_type": "stream",
     "text": [
      "The condition was true (1)\n"
     ]
    }
   ],
   "source": [
    "# You can use if statements to control the flow of logic\n",
    "\n",
    "condition = True\n",
    "\n",
    "if condition: \n",
    "    print(\"The condition was true (1)\")\n",
    "    \n",
    "condition = False\n",
    "\n",
    "if condition:\n",
    "    print(\"The condition was true (2)\")"
   ]
  },
  {
   "cell_type": "markdown",
   "id": "5880456a",
   "metadata": {},
   "source": [
    "Notice how in Python, a colon at the end of a conditional opens up a \"code block\", which is represented by an indentation. Everything in that indentation level will be run if the condition is true."
   ]
  },
  {
   "cell_type": "code",
   "execution_count": 16,
   "id": "40dfc642",
   "metadata": {},
   "outputs": [
    {
     "name": "stdout",
     "output_type": "stream",
     "text": [
      " Run\n",
      " everything\n",
      " in\n",
      " here\n",
      "  Nested conditional!\n",
      "This will run anyway\n"
     ]
    }
   ],
   "source": [
    "condition_1 = True\n",
    "condition_2 = False\n",
    "\n",
    "if condition_1:\n",
    "    print(\" Run\")\n",
    "    print(\" everything\")\n",
    "    print(\" in\")\n",
    "    print(\" here\")\n",
    "    if not condition_2:\n",
    "        print(\"  Nested conditional!\")\n",
    "        \n",
    "print(\"This will run anyway\")"
   ]
  },
  {
   "cell_type": "markdown",
   "id": "7f6a1091",
   "metadata": {},
   "source": [
    "Side note: Nesting levels are determined by indentations in Python, and so if you mess up the indentations, Python will be mad."
   ]
  },
  {
   "cell_type": "code",
   "execution_count": 17,
   "id": "d413be4f",
   "metadata": {},
   "outputs": [
    {
     "ename": "IndentationError",
     "evalue": "expected an indented block (Temp/ipykernel_24108/269633540.py, line 2)",
     "output_type": "error",
     "traceback": [
      "\u001b[1;36m  File \u001b[1;32m\"C:\\Users\\tyxia\\AppData\\Local\\Temp/ipykernel_24108/269633540.py\"\u001b[1;36m, line \u001b[1;32m2\u001b[0m\n\u001b[1;33m    print(\"Hello\")\u001b[0m\n\u001b[1;37m    ^\u001b[0m\n\u001b[1;31mIndentationError\u001b[0m\u001b[1;31m:\u001b[0m expected an indented block\n"
     ]
    }
   ],
   "source": [
    "if 1 != 0:\n",
    "print(\"Hello\")"
   ]
  },
  {
   "cell_type": "markdown",
   "id": "1d5d9423",
   "metadata": {},
   "source": [
    "Inconsistencies in indentations can also cause problems. Let's look at a case where a different amount of spaces have been used"
   ]
  },
  {
   "cell_type": "code",
   "execution_count": 23,
   "id": "0006c2c7",
   "metadata": {},
   "outputs": [
    {
     "ename": "IndentationError",
     "evalue": "unindent does not match any outer indentation level (<tokenize>, line 3)",
     "output_type": "error",
     "traceback": [
      "\u001b[1;36m  File \u001b[1;32m\"<tokenize>\"\u001b[1;36m, line \u001b[1;32m3\u001b[0m\n\u001b[1;33m    print(\"Oops\")\u001b[0m\n\u001b[1;37m    ^\u001b[0m\n\u001b[1;31mIndentationError\u001b[0m\u001b[1;31m:\u001b[0m unindent does not match any outer indentation level\n"
     ]
    }
   ],
   "source": [
    "if 1 != 0:\n",
    "    print(\"Hello\")\n",
    "   print(\"Oops\")\n",
    "    print(\"Uh Oh\")\n",
    "    "
   ]
  },
  {
   "cell_type": "markdown",
   "id": "17ff4a45",
   "metadata": {},
   "source": [
    "We can get more creative with our conditionals. Any operation or function that returns a boolean (or something that can be interpreted as a boolean) can be used as a conditional. Some common operations include:\n",
    "- `==`\n",
    "    - Check if two values are equal. Note the difference; `=` is for assignment, `==` is for comparing and returning a boolean\n",
    "- `!=`\n",
    "    - Determine if two values are not equal to each other\n",
    "- `<`, `>`, `<=`, `>=`\n",
    "    - Less than, greater than, less than or equal to, greater than or equal to\n",
    "- `in`\n",
    "    - Determine if a value is in a collection of some kind"
   ]
  },
  {
   "cell_type": "code",
   "execution_count": null,
   "id": "49ce0482",
   "metadata": {},
   "outputs": [],
   "source": [
    "print(5 == 7)\n",
    "print(5 == \"5\")\n",
    "print(5 == 5)\n",
    "print(5 != 7)\n",
    "print(7 > 4)"
   ]
  },
  {
   "cell_type": "code",
   "execution_count": null,
   "id": "a9c0c937",
   "metadata": {},
   "outputs": [],
   "source": [
    "# Second set of parentheses aren't necessary, just added for clarity\n",
    "print(1 == 2 or (not 1 == 1))"
   ]
  },
  {
   "cell_type": "code",
   "execution_count": null,
   "id": "c18459c8",
   "metadata": {},
   "outputs": [],
   "source": [
    "print(5 in [1, 2, 3])\n",
    "print(2 in [1, 2, 3])\n",
    "print(\"lions\" in [\"lions\", \"tigers\", \"bears\"])"
   ]
  },
  {
   "cell_type": "code",
   "execution_count": null,
   "id": "937e6e51",
   "metadata": {},
   "outputs": [],
   "source": [
    "x = 10\n",
    "\n",
    "if x % 2 == 0:\n",
    "    print(x, \"is even!\")"
   ]
  },
  {
   "cell_type": "markdown",
   "id": "ee1a6fdf",
   "metadata": {},
   "source": [
    "We can use `elif` (short for \"else if\") and `else` to get even more elaborate with our control flow:"
   ]
  },
  {
   "cell_type": "code",
   "execution_count": null,
   "id": "5932f014",
   "metadata": {},
   "outputs": [],
   "source": [
    "classStartTime = 9.5\n",
    "\n",
    "print(\"Probability of showing up on time:\", end=\" \")\n",
    "if classStartTime < 9:\n",
    "    print(\"No chance\")\n",
    "elif classStartTime < 10:\n",
    "    print(\"Unlikely, but possible\")\n",
    "elif classStartTime < 11:\n",
    "    print(\"I'll have to set my alarm, but I'll probably be there\")\n",
    "else:\n",
    "    print(\"Perfect\")\n",
    "    \n",
    "print(\"Computation complete\")"
   ]
  },
  {
   "cell_type": "markdown",
   "id": "6d942883",
   "metadata": {},
   "source": [
    "Using `elif` and `else` ensures that the code logic only enters **one** conditional. For example, even though `classStartTime` is less than both 10 and 11, it only enters the first block and then exits. Let's change the previous statement to just `ifs`"
   ]
  },
  {
   "cell_type": "code",
   "execution_count": 24,
   "id": "71cdb194",
   "metadata": {},
   "outputs": [
    {
     "name": "stdout",
     "output_type": "stream",
     "text": [
      "Probability of showing up on time: Unlikely, but possible\n",
      "I'll have to set my alarm, but I'll probably be there\n",
      "Computation complete\n"
     ]
    }
   ],
   "source": [
    "classStartTime = 9.5\n",
    "\n",
    "print(\"Probability of showing up on time:\", end=\" \")\n",
    "if classStartTime < 9:\n",
    "    print(\"No chance\")\n",
    "if classStartTime < 10:\n",
    "    print(\"Unlikely, but possible\")\n",
    "if classStartTime < 11:\n",
    "    print(\"I'll have to set my alarm, but I'll probably be there\")\n",
    "else:\n",
    "    print(\"Perfect\")\n",
    "    \n",
    "print(\"Computation complete\")"
   ]
  },
  {
   "cell_type": "markdown",
   "id": "1b5a23f9",
   "metadata": {},
   "source": [
    "To repeat the same code multiple times, we can use `while` and `for` loops."
   ]
  },
  {
   "cell_type": "code",
   "execution_count": null,
   "id": "a0571e3f",
   "metadata": {},
   "outputs": [],
   "source": [
    "x = 5\n",
    "# Continues running code block while conditional is true\n",
    "while x >= 0:\n",
    "    print(x)\n",
    "    x -= 1"
   ]
  },
  {
   "cell_type": "markdown",
   "id": "c5880d50",
   "metadata": {},
   "source": [
    "Be careful to avoid infinite loops; for example, this code will run forever (until something stops it):\n",
    "\n",
    "```\n",
    "x = 5\n",
    "while x >= 0:\n",
    "    print(x)\n",
    "```\n",
    "\n",
    "`for` loops are one of the most useful things you can know in Python. This is how they usually look:\n",
    "\n",
    "```\n",
    "for <item> in <iterable>:\n",
    "    <do stuff with item>\n",
    "```\n",
    "\n",
    "Where `iterable` is something that can be *iterated* over, like a list."
   ]
  },
  {
   "cell_type": "code",
   "execution_count": null,
   "id": "3e721db1",
   "metadata": {},
   "outputs": [],
   "source": [
    "print(months)\n",
    "for m in months:\n",
    "    # On every iteration, Python sets the variable m to the next item in months\n",
    "    print(m)"
   ]
  },
  {
   "cell_type": "code",
   "execution_count": null,
   "id": "e2c670b6",
   "metadata": {},
   "outputs": [],
   "source": [
    "for m in months:\n",
    "    print(f\"Is the letter 'a' in the month {m}?\", end=\" \")\n",
    "    if 'a' in m.lower():\n",
    "        print(\"Yes!\")\n",
    "    else:\n",
    "        print(\"No!\")"
   ]
  },
  {
   "cell_type": "code",
   "execution_count": null,
   "id": "a9cbeb32",
   "metadata": {},
   "outputs": [],
   "source": [
    "# A common way to iterate through numbers is to use the range() function\n",
    "# It returns an iterable that starts and ends at indexes you choose\n",
    "\n",
    "# Default start index is 0\n",
    "# Ranges from 0 to 4\n",
    "for i in range(5):\n",
    "    print(i)\n",
    "    \n",
    "print(\"\")\n",
    "\n",
    "# Ranges from 5 to 9\n",
    "for i in range(5, 10):\n",
    "    print(i)\n",
    "    \n",
    "print(\"\")\n",
    "\n",
    "# From 0 to 9 with step length 2\n",
    "for i in range(0, 10, 2):\n",
    "    print(i)"
   ]
  },
  {
   "cell_type": "markdown",
   "id": "56e6fe6f",
   "metadata": {},
   "source": [
    "### Functions\n",
    "\n",
    "We've already encountered a few functions:\n",
    "- `print(...)`\n",
    "- `string.lower()`\n",
    "- `range(...)`\n",
    "- `list.append(...)`\n",
    "- `len(...)`\n",
    "\n",
    "As well as a few of numpy functions:\n",
    "- `numpy.zeros(...)`\n",
    "- `numpy.ones(...)`\n",
    "- `numpy.array(...)`\n",
    "- `numpy.dot(...)`\n",
    "\n",
    "Functions take in input(s), and return output(s). Here's how you define one:"
   ]
  },
  {
   "cell_type": "code",
   "execution_count": null,
   "id": "d4da260f",
   "metadata": {},
   "outputs": [],
   "source": [
    "def add(a, b):\n",
    "    summation = a + b\n",
    "    return summation\n",
    "\n",
    "# `def` is the keyword to define a new function\n",
    "# The function name comes next, then the parameters / arguments it takes and a colon to open up a code block\n",
    "# The keyword `return` returns a value\n",
    "\n",
    "print(add(3, 5))"
   ]
  },
  {
   "cell_type": "code",
   "execution_count": null,
   "id": "0c3bfe86",
   "metadata": {},
   "outputs": [],
   "source": [
    "# You can also return multiple values\n",
    "def addAndSubtract(a, b):\n",
    "    return a + b, a - b\n",
    "\n",
    "# Returns a `tuple`\n",
    "print(addAndSubtract(5, 10))\n",
    "\n",
    "# \"Unpacking\" multiples values from a tuple\n",
    "addResult, subtractResult = addAndSubtract(5, 10)\n",
    "print(addResult)\n",
    "print(subtractResult)"
   ]
  },
  {
   "cell_type": "code",
   "execution_count": null,
   "id": "fcfe2f1b",
   "metadata": {},
   "outputs": [],
   "source": [
    "# You can also set default values for arguments\n",
    "def power(base, power=2):\n",
    "    return base ** power\n",
    "\n",
    "# Just give base, power defaults to 2\n",
    "print(power(4))\n",
    "\n",
    "# Give base and power\n",
    "print(power(4, power=3))\n",
    "\n",
    "# Explicitly list arguments\n",
    "print(power(base=4, power=3))\n",
    "\n",
    "# When being explicit, order doesn't matter\n",
    "print(power(power=3, base=4))"
   ]
  },
  {
   "cell_type": "markdown",
   "id": "6cdc3321",
   "metadata": {},
   "source": [
    "Let's write a function together! It'll take in a list and a value. It'll search for the value in the list; if it finds the value in the list, it'll return the index of the value's first appearance. If the value isn't in the list, it will return `-1`.\n",
    "\n",
    "e.g.\n",
    "```\n",
    "search([1, 2, 3, 2], 1) => 0\n",
    "search([1, 2, 3, 2], 2) => 1\n",
    "search([1, 2, 3, 4], 5) => -1\n",
    "```"
   ]
  },
  {
   "cell_type": "code",
   "execution_count": null,
   "id": "1f3e88aa",
   "metadata": {},
   "outputs": [],
   "source": [
    "# Write code here!\n",
    "\n",
    "\n",
    "\n"
   ]
  },
  {
   "cell_type": "markdown",
   "id": "4069928c",
   "metadata": {},
   "source": [
    "Here's some solutions I came up with:"
   ]
  },
  {
   "cell_type": "code",
   "execution_count": null,
   "id": "410fd5d7",
   "metadata": {},
   "outputs": [],
   "source": [
    "def search_1(lst, val):\n",
    "    for i in range(len(lst)):\n",
    "        if lst[i] == val:\n",
    "            return i\n",
    "    return -1\n",
    "\n",
    "def search_2(lst, val):\n",
    "    i = 0\n",
    "    while i < len(lst):\n",
    "        if lst[i] == val:\n",
    "            return i\n",
    "        i += 1\n",
    "    return -1\n",
    "\n",
    "def search_3(lst, val):\n",
    "    for i, item in enumerate(lst):\n",
    "        if item == val:\n",
    "            return i\n",
    "    return -1\n",
    "\n",
    "def search_4(lst, val):\n",
    "    try:\n",
    "        return lst.index(val)\n",
    "    except:\n",
    "        return -1"
   ]
  },
  {
   "cell_type": "markdown",
   "id": "7b1f4015",
   "metadata": {},
   "source": [
    "### Tying it all together"
   ]
  },
  {
   "cell_type": "markdown",
   "id": "aaf2878a",
   "metadata": {},
   "source": [
    "Write the following functions (arguments written in `monospace`):\n",
    "- A function that returns the numbers in list `lst` that are divisible by `k`\n",
    "    - Remember that a % b is the remainder function\n",
    "- A function that returns the elements in list `lst` that have a vowel in them (excluding y)\n",
    "    - A string is almost like a list of characters. So, you can iterate over each char in a string (e.g. `for char in string:`) or check if a string is in another string (e.g. `'a' in 'can' ==> True`)\n",
    "- A function that determines if `n` is a prime number\n",
    "    - If you want to use the squareroot function (not necessary), you can get it from `import math`, and then call `math.sqrt()`"
   ]
  },
  {
   "cell_type": "code",
   "execution_count": null,
   "id": "4d34b1c6",
   "metadata": {},
   "outputs": [],
   "source": [
    "'''Write function 1 here!'''\n",
    "def itemsDivisibleByK(lst, k):\n",
    "    # Replace this; pass just means \"do nothing\"\n",
    "    pass\n",
    "\n"
   ]
  },
  {
   "cell_type": "code",
   "execution_count": null,
   "id": "af17276a",
   "metadata": {},
   "outputs": [],
   "source": [
    "'''Test function 1'''\n",
    "# Should be [0, 3, 6, 9]\n",
    "itemsDivisibleByK([0, 1, 2, 3, 4, 5, 6, 7, 8, 9], 3)"
   ]
  },
  {
   "cell_type": "code",
   "execution_count": null,
   "id": "a7f79907",
   "metadata": {},
   "outputs": [],
   "source": [
    "'''Write function 2 here!'''\n",
    "def elementsWithVowels(lst):\n",
    "    pass\n",
    "\n"
   ]
  },
  {
   "cell_type": "code",
   "execution_count": null,
   "id": "908220d8",
   "metadata": {},
   "outputs": [],
   "source": [
    "'''Test function 2'''\n",
    "# Should be [\"machine\", \"learning\", \"def\"]\n",
    "elementsWithVowels([\"machine\", \"learning\", \"bcd\", \"def\", \"xyz\"])"
   ]
  },
  {
   "cell_type": "code",
   "execution_count": null,
   "id": "85aefeb2",
   "metadata": {},
   "outputs": [],
   "source": [
    "'''Write function 3 here!'''\n",
    "def isPrime(n):\n",
    "    pass\n",
    "\n"
   ]
  },
  {
   "cell_type": "code",
   "execution_count": null,
   "id": "8c2dd072",
   "metadata": {},
   "outputs": [],
   "source": [
    "'''Test function 3'''\n",
    "for i in range(2, 16):\n",
    "    print(i, isPrime(i))"
   ]
  },
  {
   "cell_type": "markdown",
   "id": "5a81447c",
   "metadata": {},
   "source": [
    "Here are my solutions, but they might look different from yours:"
   ]
  },
  {
   "cell_type": "code",
   "execution_count": null,
   "id": "248a88dd",
   "metadata": {},
   "outputs": [],
   "source": [
    "def itemsDivisibleByK(lst, k):\n",
    "    return [item for item in lst if item % k == 0]"
   ]
  },
  {
   "cell_type": "code",
   "execution_count": null,
   "id": "0575c8ac",
   "metadata": {},
   "outputs": [],
   "source": [
    "def containsVowel(string):\n",
    "    for char in string:\n",
    "        if char in 'aeiou':\n",
    "            return True\n",
    "    return False\n",
    "\n",
    "def elementsWithVowels(lst):\n",
    "    return [string for string in lst if containsVowel(string)]"
   ]
  },
  {
   "cell_type": "code",
   "execution_count": null,
   "id": "64cf6d6e",
   "metadata": {},
   "outputs": [],
   "source": [
    "import math\n",
    "def isPrime(n):\n",
    "    if n < 2:\n",
    "        return False\n",
    "    for i in range(2, int(math.sqrt(n)) + 1):\n",
    "        if n % i == 0:\n",
    "            return False\n",
    "    return True"
   ]
  }
 ],
 "metadata": {
  "kernelspec": {
   "display_name": "Python 3.8.10 64-bit",
   "language": "python",
   "name": "python3"
  },
  "language_info": {
   "codemirror_mode": {
    "name": "ipython",
    "version": 3
   },
   "file_extension": ".py",
   "mimetype": "text/x-python",
   "name": "python",
   "nbconvert_exporter": "python",
   "pygments_lexer": "ipython3",
   "version": "3.8.10"
  },
  "vscode": {
   "interpreter": {
    "hash": "8c9d00ddaa79aa68c3a541f4a79b3085c4c0d74dc6caab7ebd7301921f5b4803"
   }
  }
 },
 "nbformat": 4,
 "nbformat_minor": 5
}
