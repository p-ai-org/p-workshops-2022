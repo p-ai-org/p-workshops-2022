{
 "cells": [
  {
   "cell_type": "markdown",
   "id": "f31bf597",
   "metadata": {},
   "source": [
    "# P-ai AI/ML Workshop: Session 2\n",
    "\n",
    "Welcome to P-ai's second session of the AI/ML workshop series! Today we'll learn about\n",
    "- Supervised learning, unsupervised learning, and reinforcement learning\n",
    "- Supervised learning in more detail\n",
    "- Linear regression and logistic regression\n",
    "\n",
    "And we'll finish off with a case study that will allow us to apply what we've learned.\n",
    "<img src=\"https://images.squarespace-cdn.com/content/5d5aca05ce74150001a5af3e/1580018583262-NKE94RECI46GRULKS152/Screen+Shot+2019-12-05+at+11.18.53+AM.png?content-type=image%2Fpng\" width=\"200px\">"
   ]
  },
  {
   "cell_type": "markdown",
   "id": "484098d0",
   "metadata": {},
   "source": [
    "### Some extensions from last week: Polynomial Degrees"
   ]
  },
  {
   "cell_type": "markdown",
   "id": "e1c0eec4",
   "metadata": {},
   "source": [
    "## 0. Session 1 Review\n",
    "Here are some key points from last week's session:\n",
    "- Machine learning is a tool used for finding finding patterns in data, typically in order to make predictions or perform a task without being explicitly programmed\n",
    "- Often, a machine learning algorithm requires finding a set of *parameters* that optimizes some metric (like minimizing error)\n",
    "- Applying machine learning requires many steps of data collection, processing, training, and evaluating"
   ]
  },
  {
   "cell_type": "markdown",
   "id": "b2889b48",
   "metadata": {},
   "source": [
    "## 1. Domains of Machine Learning\n",
    "Let's outline three of the biggest \"domains\" of machine learning tasks we should be aware of:\n",
    "\n",
    "Let's break down the three biggest branches: **supervised learning**, **unsupervised learning**, and **reinforcement learning**.\n",
    "\n",
    "### Supervised learning\n",
    "Supervised learning requires **labeled data**, that is, the training data consists of inputs and known correct outputs. This is the \"bread and butter\" kind of machine learning you will most likely come across. Here are a few examples:\n",
    "- Given a dataset of flower measurements and their corresponding species, learn to classify a flower's species from its measurements\n",
    "- Given a dataset of 32x32 images of handwritten digits, learn to classify an image as one of ten digits\n",
    "- Given a dataset of house pictures and their prices, learn to predict the price of a house given a picture\n",
    "\n",
    "In all these cases, we have lots of examples of the \"correct answers\", and need a machine learning model to learn what function maps from input to output. More on this later!\n",
    "\n",
    "### Unsupervised learning\n",
    "Unsupervised learning deals with **unlabeled data**, and the two most common tasks in the unsupervised learning space is clustering and dimensionality reduction. We'll cover these in more detail later, but to give an idea of what UL is about, let's consider clustering. As the name might suggest, the task of clustering involves taking a bunch of data points and grouping them together into clusters. We don't need labels to perform this!\n",
    "\n",
    "For example, a simple implementation of online-shopping purchase recommendations is with clustering. By simply grouping together items that are commonly purchased together, or by looking at what buyers are also purchasing upon purchasing the first item, we can develop a method to recommend products.\n",
    "\n",
    "### Reinforcement Learning (RL)\n",
    "Reinforcement learning is a little different from supervised and unsupervised learning. RL involves training an **agent** to **interact with an environment** to maximize some reward. In other words, the agent can perform actions which change the environment and yield some reward or punishment. In theory, this is a simplified model of how humans learn (think touching a hot stove, or being rewarded for good grades). The most classic examples of RL are models that play games like Go (see <a href=\"https://deepmind.com/research/case-studies/alphago-the-story-so-far\">AlphaGo</a>) or Mario. RL can be more nuanced, though, like stock trading or learning language."
   ]
  },
  {
   "cell_type": "markdown",
   "id": "749d75d9",
   "metadata": {},
   "source": [
    "## 2. Supervised Learning\n",
    "\n",
    "Supervised learning is a great place to start with machine learning because it explains most of the most fundamental concepts behind ML, is very applicable, and allows us to start simple. Before going further, let's break down the two big subdomains of supervised learning:\n",
    "\n",
    "<img src=\"https://lh4.googleusercontent.com/K17BRCQTR5hHU-qOthrs9KIQa4DLAWJh5jeXkyn6NZRQfimHnCAadWbw3EaZPZl1bit2IBQPeBv1CZURiyFYkIDPH1Z3Pb0O_qkeS9av7vrEtQLpMLWdtDJ7YNlRki8CoAsY8bmn\" width=\"450px\">\n",
    "\n",
    "- **Regression** is about predicting a **quantity**; in the example above, temperature. Another example might be predicting someone's age given a picture of their face.\n",
    "     - Regression is broader than you think...\n",
    "- **Classification** is about assigning a **class** (or label) to a given data point; in the example above, \"hot\" or \"cold\". Another example might be classifying paintings as Da Vinci, Van Gogh, or Dali.\n",
    "\n",
    "Recall how we said supervised learning requires **labeled data**. Let's call the input data $X$ and the output data (what we're trying to predict) $y$. In the most gross oversimplification of machine learning, supervised learning is about finding a function $f$ such that:\n",
    "\n",
    "$$f(X) \\approx y$$\n",
    "\n",
    "That may sound obvious and/or unhelpful, but just keep it in mind as we continue through today's session, and especially when we cover deep learning; we are *using an algorithm to find a mapping from input to output*!\n",
    "\n",
    "### A slight segway into recent controversies... Sentient AI!\n",
    "https://www.theguardian.com/technology/2022/aug/14/can-artificial-intelligence-ever-be-sentient-googles-new-ai-program-is-raising-questions\n",
    "\n",
    "Okay, let's start getting into the weeds a bit!"
   ]
  },
  {
   "cell_type": "markdown",
   "id": "a3f250ea",
   "metadata": {},
   "source": [
    "## 3. Linear Regression and Logistic Regression\n",
    "\n",
    "- **Q.** *Why?*  \n",
    "- **A.** These two algorithms are relatively simple but teach a lot about core machine learning concepts, and also serve as the foundation for deep learning.\n",
    "\n",
    "## Linear Regression\n",
    "\n",
    "If you attended last week's session or looked over the notebook, you'll remember that we quickly covered linear regression. But this time, it's for real. Recall that for linear regression in 2D, we try to fit a line to the data. That means, if we have an input variable $x$ and an output variable $y$, we wanted to find parameters $m$ and $b$ so we could get:\n",
    "\n",
    "$$f(x) = mx + b \\approx y$$\n",
    "\n",
    "So we have something to look at, let's generate some fake data!"
   ]
  },
  {
   "cell_type": "code",
   "execution_count": 1,
   "id": "e5f7221a",
   "metadata": {},
   "outputs": [
    {
     "name": "stdout",
     "output_type": "stream",
     "text": [
      "Requirement already satisfied: pandas in c:\\users\\txiang\\appdata\\local\\programs\\python\\python38\\lib\\site-packages (1.4.1)\n",
      "Requirement already satisfied: seaborn in c:\\users\\txiang\\appdata\\local\\programs\\python\\python38\\lib\\site-packages (0.11.2)\n",
      "Collecting scikit-learn\n",
      "  Downloading scikit_learn-1.1.2-cp38-cp38-win_amd64.whl (7.3 MB)\n",
      "Requirement already satisfied: numpy in c:\\users\\txiang\\appdata\\local\\programs\\python\\python38\\lib\\site-packages (1.21.3)\n",
      "Requirement already satisfied: pytz>=2020.1 in c:\\users\\txiang\\appdata\\local\\programs\\python\\python38\\lib\\site-packages (from pandas) (2022.1)\n",
      "Requirement already satisfied: python-dateutil>=2.8.1 in c:\\users\\txiang\\appdata\\local\\programs\\python\\python38\\lib\\site-packages (from pandas) (2.8.2)\n",
      "Requirement already satisfied: six>=1.5 in c:\\users\\txiang\\appdata\\local\\programs\\python\\python38\\lib\\site-packages (from python-dateutil>=2.8.1->pandas) (1.16.0)\n",
      "Requirement already satisfied: matplotlib>=2.2 in c:\\users\\txiang\\appdata\\local\\programs\\python\\python38\\lib\\site-packages (from seaborn) (3.4.3)\n",
      "Requirement already satisfied: scipy>=1.0 in c:\\users\\txiang\\appdata\\local\\programs\\python\\python38\\lib\\site-packages (from seaborn) (1.8.0)\n",
      "Requirement already satisfied: pyparsing>=2.2.1 in c:\\users\\txiang\\appdata\\local\\programs\\python\\python38\\lib\\site-packages (from matplotlib>=2.2->seaborn) (3.0.4)\n",
      "Requirement already satisfied: cycler>=0.10 in c:\\users\\txiang\\appdata\\local\\programs\\python\\python38\\lib\\site-packages (from matplotlib>=2.2->seaborn) (0.11.0)\n",
      "Requirement already satisfied: pillow>=6.2.0 in c:\\users\\txiang\\appdata\\local\\programs\\python\\python38\\lib\\site-packages (from matplotlib>=2.2->seaborn) (8.4.0)\n",
      "Requirement already satisfied: kiwisolver>=1.0.1 in c:\\users\\txiang\\appdata\\local\\programs\\python\\python38\\lib\\site-packages (from matplotlib>=2.2->seaborn) (1.3.2)\n",
      "Collecting threadpoolctl>=2.0.0\n",
      "  Downloading threadpoolctl-3.1.0-py3-none-any.whl (14 kB)\n",
      "Requirement already satisfied: joblib>=1.0.0 in c:\\users\\txiang\\appdata\\local\\programs\\python\\python38\\lib\\site-packages (from scikit-learn) (1.1.0)\n",
      "Installing collected packages: threadpoolctl, scikit-learn\n",
      "Successfully installed scikit-learn-1.1.2 threadpoolctl-3.1.0\n"
     ]
    },
    {
     "name": "stderr",
     "output_type": "stream",
     "text": [
      "WARNING: You are using pip version 21.1.1; however, version 22.2.2 is available.\n",
      "You should consider upgrading via the 'c:\\users\\txiang\\appdata\\local\\programs\\python\\python38\\python.exe -m pip install --upgrade pip' command.\n"
     ]
    }
   ],
   "source": [
    "# Install packages we'll need later\n",
    "!pip install pandas seaborn scikit-learn numpy"
   ]
  },
  {
   "cell_type": "code",
   "execution_count": 2,
   "id": "f21dbbc5",
   "metadata": {},
   "outputs": [],
   "source": [
    "# Import helpful modules\n",
    "import pandas as pd\n",
    "import seaborn as sns\n",
    "from pathlib import Path\n",
    "from sklearn import datasets\n",
    "import numpy as np\n",
    "import matplotlib.pyplot as plt"
   ]
  },
  {
   "cell_type": "code",
   "execution_count": 31,
   "id": "b321aa76",
   "metadata": {},
   "outputs": [
    {
     "data": {
      "text/plain": [
       "<AxesSubplot:>"
      ]
     },
     "execution_count": 31,
     "metadata": {},
     "output_type": "execute_result"
    },
    {
     "data": {
      "image/png": "[encoded data removed]",
      "text/plain": [
       "<Figure size 432x288 with 1 Axes>"
      ]
     },
     "metadata": {
      "needs_background": "light"
     },
     "output_type": "display_data"
    }
   ],
   "source": [
    "# scikit-learn has a function for generating roughly linear data\n",
    "bias = 20\n",
    "X, y, coef = datasets.make_regression(n_features=1, noise=10, bias=bias, coef=True, random_state=52)\n",
    "# don't worry about this\n",
    "x = [x_[0] for x_ in X]\n",
    "sns.scatterplot(x=x, y=y)"
   ]
  },
  {
   "cell_type": "markdown",
   "id": "524d562e",
   "metadata": {},
   "source": [
    "#### Activity 1:\n",
    "\n",
    "Mess with the datasets.make_regression function. What does n_features, noise, bias, and coef do? What does random_state do?"
   ]
  },
  {
   "cell_type": "markdown",
   "id": "8e0ad91f",
   "metadata": {},
   "source": [
    "If you want to make this more concrete, imagine that the $x$ axis is the average salary in a particular city, and the $y$ axis is the average cost of living for that city. Your boss hears you \"know machine learning\", so they ask you to \"use AI\" to predict the cost of living for a city given the average salary. Since we can see the relationship is linear, and we're trying to predict a **value** (regression, not classification), linear regression is a good choice."
   ]
  },
  {
   "cell_type": "markdown",
   "id": "b7be3614",
   "metadata": {},
   "source": [
    "### An ML Spin on Linear Regression\n",
    "Imagine you're the machine, and you want to learn how to model that relationship between salary and cost of living. What do you need to figure out? Recall the formula:\n",
    "$$\n",
    "\\hat{y}=mx+b\n",
    "$$\n",
    "\n",
    "or as we'll write it...\n",
    "\n",
    "$$\n",
    "\\hat{y}=wx+b\n",
    "$$\n",
    "\n",
    "Don't mind the change from slope variable $m$ to $w$. We'll start to slide over to ML lingo, where we call the slope **weight**. This makes sense, because when we multiply a variable by an amount, we're basically assigning a *weight* to that variable. Also, instead of calling $b$ the y-intercept, we call it the **bias**. So in this case, we, the machine, have to figure out what $w$ and $b$ are from the data alone.\n",
    "\n",
    "> Where do we start?\n",
    "\n",
    "How about a random guess?"
   ]
  },
  {
   "cell_type": "code",
   "execution_count": 35,
   "id": "ddf1e5a1",
   "metadata": {},
   "outputs": [
    {
     "data": {
      "text/plain": [
       "20"
      ]
     },
     "execution_count": 35,
     "metadata": {},
     "output_type": "execute_result"
    }
   ],
   "source": [
    "def defineLinearModel(w, b):\n",
    "    # Note that defineModel returns a function!\n",
    "    # write a function under defineLinearModel called model(x) that takes in some x \n",
    "    # and returns a predicted linear regression value\n",
    "    def model(x):\n",
    "        return w * x + b\n",
    "    return model\n",
    "    \n",
    "# Define our model with w (weight) = 2 and b (bias) = 10\n",
    "model = defineLinearModel(2, 10)\n",
    "# Here's our prediction for x = 5\n",
    "model(5)"
   ]
  },
  {
   "cell_type": "markdown",
   "id": "fe7b6fa2",
   "metadata": {},
   "source": [
    "Now let's make predictions for all the $x$ data in our dataset:"
   ]
  },
  {
   "cell_type": "code",
   "execution_count": 36,
   "id": "160e3d8e",
   "metadata": {},
   "outputs": [
    {
     "data": {
      "text/plain": [
       "[10.162789374580534,\n",
       " 9.783856724743945,\n",
       " 9.615122789118002,\n",
       " 14.930217758872587,\n",
       " 9.77319132379943,\n",
       " 12.304368192557357,\n",
       " 11.679614726891657,\n",
       " 8.914365934713326,\n",
       " 12.479590834038854,\n",
       " 10.613949582231808]"
      ]
     },
     "execution_count": 36,
     "metadata": {},
     "output_type": "execute_result"
    }
   ],
   "source": [
    "y_pred = [model(x_) for x_ in x]\n",
    "# Print first 10\n",
    "y_pred[:10]"
   ]
  },
  {
   "cell_type": "markdown",
   "id": "6ee2d69a",
   "metadata": {},
   "source": [
    "Let's compare our predictions with the actual y values:"
   ]
  },
  {
   "cell_type": "code",
   "execution_count": 34,
   "id": "d141554c",
   "metadata": {},
   "outputs": [
    {
     "data": {
      "text/html": [
       "<div>\n",
       "<style scoped>\n",
       "    .dataframe tbody tr th:only-of-type {\n",
       "        vertical-align: middle;\n",
       "    }\n",
       "\n",
       "    .dataframe tbody tr th {\n",
       "        vertical-align: top;\n",
       "    }\n",
       "\n",
       "    .dataframe thead th {\n",
       "        text-align: right;\n",
       "    }\n",
       "</style>\n",
       "<table border=\"1\" class=\"dataframe\">\n",
       "  <thead>\n",
       "    <tr style=\"text-align: right;\">\n",
       "      <th></th>\n",
       "      <th>x</th>\n",
       "      <th>y_pred</th>\n",
       "      <th>y</th>\n",
       "    </tr>\n",
       "  </thead>\n",
       "  <tbody>\n",
       "    <tr>\n",
       "      <th>0</th>\n",
       "      <td>0.081395</td>\n",
       "      <td>10.162789</td>\n",
       "      <td>26.237272</td>\n",
       "    </tr>\n",
       "    <tr>\n",
       "      <th>1</th>\n",
       "      <td>-0.108072</td>\n",
       "      <td>9.783857</td>\n",
       "      <td>20.015537</td>\n",
       "    </tr>\n",
       "    <tr>\n",
       "      <th>2</th>\n",
       "      <td>-0.192439</td>\n",
       "      <td>9.615123</td>\n",
       "      <td>24.014090</td>\n",
       "    </tr>\n",
       "    <tr>\n",
       "      <th>3</th>\n",
       "      <td>2.465109</td>\n",
       "      <td>14.930218</td>\n",
       "      <td>49.119550</td>\n",
       "    </tr>\n",
       "    <tr>\n",
       "      <th>4</th>\n",
       "      <td>-0.113404</td>\n",
       "      <td>9.773191</td>\n",
       "      <td>-3.770025</td>\n",
       "    </tr>\n",
       "    <tr>\n",
       "      <th>...</th>\n",
       "      <td>...</td>\n",
       "      <td>...</td>\n",
       "      <td>...</td>\n",
       "    </tr>\n",
       "    <tr>\n",
       "      <th>95</th>\n",
       "      <td>-0.066157</td>\n",
       "      <td>9.867685</td>\n",
       "      <td>20.387742</td>\n",
       "    </tr>\n",
       "    <tr>\n",
       "      <th>96</th>\n",
       "      <td>1.319828</td>\n",
       "      <td>12.639656</td>\n",
       "      <td>48.705636</td>\n",
       "    </tr>\n",
       "    <tr>\n",
       "      <th>97</th>\n",
       "      <td>-0.323021</td>\n",
       "      <td>9.353958</td>\n",
       "      <td>6.073753</td>\n",
       "    </tr>\n",
       "    <tr>\n",
       "      <th>98</th>\n",
       "      <td>-0.484149</td>\n",
       "      <td>9.031701</td>\n",
       "      <td>2.524269</td>\n",
       "    </tr>\n",
       "    <tr>\n",
       "      <th>99</th>\n",
       "      <td>0.694592</td>\n",
       "      <td>11.389184</td>\n",
       "      <td>19.740346</td>\n",
       "    </tr>\n",
       "  </tbody>\n",
       "</table>\n",
       "<p>100 rows × 3 columns</p>\n",
       "</div>"
      ],
      "text/plain": [
       "           x     y_pred          y\n",
       "0   0.081395  10.162789  26.237272\n",
       "1  -0.108072   9.783857  20.015537\n",
       "2  -0.192439   9.615123  24.014090\n",
       "3   2.465109  14.930218  49.119550\n",
       "4  -0.113404   9.773191  -3.770025\n",
       "..       ...        ...        ...\n",
       "95 -0.066157   9.867685  20.387742\n",
       "96  1.319828  12.639656  48.705636\n",
       "97 -0.323021   9.353958   6.073753\n",
       "98 -0.484149   9.031701   2.524269\n",
       "99  0.694592  11.389184  19.740346\n",
       "\n",
       "[100 rows x 3 columns]"
      ]
     },
     "execution_count": 34,
     "metadata": {},
     "output_type": "execute_result"
    }
   ],
   "source": [
    "# Just putting our variables into a table for readability\n",
    "df = pd.DataFrame(columns=[\"x\", \"y_pred\", \"y\"], \n",
    "                  data={\n",
    "                      \"x\": x, \n",
    "                      \"y_pred\": y_pred, \n",
    "                      \"y\": y\n",
    "                  })\n",
    "df"
   ]
  },
  {
   "cell_type": "markdown",
   "id": "d7508ac3",
   "metadata": {},
   "source": [
    "> What now?\n",
    "\n",
    "We guessed our parameters and made predictions for all our $x$ values. We need to know **how bad** our predictions were compared to the actual known $y$ values.\n",
    "\n",
    "> How should we compare them?\n",
    "\n",
    "One simple idea might be to take the absolute difference between the two, and call it the error. Here's what that would look like:"
   ]
  },
  {
   "cell_type": "code",
   "execution_count": 37,
   "id": "adbaebf6",
   "metadata": {
    "scrolled": false
   },
   "outputs": [
    {
     "data": {
      "text/html": [
       "<div>\n",
       "<style scoped>\n",
       "    .dataframe tbody tr th:only-of-type {\n",
       "        vertical-align: middle;\n",
       "    }\n",
       "\n",
       "    .dataframe tbody tr th {\n",
       "        vertical-align: top;\n",
       "    }\n",
       "\n",
       "    .dataframe thead th {\n",
       "        text-align: right;\n",
       "    }\n",
       "</style>\n",
       "<table border=\"1\" class=\"dataframe\">\n",
       "  <thead>\n",
       "    <tr style=\"text-align: right;\">\n",
       "      <th></th>\n",
       "      <th>x</th>\n",
       "      <th>y_pred</th>\n",
       "      <th>y</th>\n",
       "      <th>error</th>\n",
       "    </tr>\n",
       "  </thead>\n",
       "  <tbody>\n",
       "    <tr>\n",
       "      <th>0</th>\n",
       "      <td>0.081395</td>\n",
       "      <td>10.162789</td>\n",
       "      <td>26.237272</td>\n",
       "      <td>16.074482</td>\n",
       "    </tr>\n",
       "    <tr>\n",
       "      <th>1</th>\n",
       "      <td>-0.108072</td>\n",
       "      <td>9.783857</td>\n",
       "      <td>20.015537</td>\n",
       "      <td>10.231680</td>\n",
       "    </tr>\n",
       "    <tr>\n",
       "      <th>2</th>\n",
       "      <td>-0.192439</td>\n",
       "      <td>9.615123</td>\n",
       "      <td>24.014090</td>\n",
       "      <td>14.398967</td>\n",
       "    </tr>\n",
       "    <tr>\n",
       "      <th>3</th>\n",
       "      <td>2.465109</td>\n",
       "      <td>14.930218</td>\n",
       "      <td>49.119550</td>\n",
       "      <td>34.189332</td>\n",
       "    </tr>\n",
       "    <tr>\n",
       "      <th>4</th>\n",
       "      <td>-0.113404</td>\n",
       "      <td>9.773191</td>\n",
       "      <td>-3.770025</td>\n",
       "      <td>13.543216</td>\n",
       "    </tr>\n",
       "    <tr>\n",
       "      <th>...</th>\n",
       "      <td>...</td>\n",
       "      <td>...</td>\n",
       "      <td>...</td>\n",
       "      <td>...</td>\n",
       "    </tr>\n",
       "    <tr>\n",
       "      <th>95</th>\n",
       "      <td>-0.066157</td>\n",
       "      <td>9.867685</td>\n",
       "      <td>20.387742</td>\n",
       "      <td>10.520056</td>\n",
       "    </tr>\n",
       "    <tr>\n",
       "      <th>96</th>\n",
       "      <td>1.319828</td>\n",
       "      <td>12.639656</td>\n",
       "      <td>48.705636</td>\n",
       "      <td>36.065981</td>\n",
       "    </tr>\n",
       "    <tr>\n",
       "      <th>97</th>\n",
       "      <td>-0.323021</td>\n",
       "      <td>9.353958</td>\n",
       "      <td>6.073753</td>\n",
       "      <td>3.280205</td>\n",
       "    </tr>\n",
       "    <tr>\n",
       "      <th>98</th>\n",
       "      <td>-0.484149</td>\n",
       "      <td>9.031701</td>\n",
       "      <td>2.524269</td>\n",
       "      <td>6.507432</td>\n",
       "    </tr>\n",
       "    <tr>\n",
       "      <th>99</th>\n",
       "      <td>0.694592</td>\n",
       "      <td>11.389184</td>\n",
       "      <td>19.740346</td>\n",
       "      <td>8.351161</td>\n",
       "    </tr>\n",
       "  </tbody>\n",
       "</table>\n",
       "<p>100 rows × 4 columns</p>\n",
       "</div>"
      ],
      "text/plain": [
       "           x     y_pred          y      error\n",
       "0   0.081395  10.162789  26.237272  16.074482\n",
       "1  -0.108072   9.783857  20.015537  10.231680\n",
       "2  -0.192439   9.615123  24.014090  14.398967\n",
       "3   2.465109  14.930218  49.119550  34.189332\n",
       "4  -0.113404   9.773191  -3.770025  13.543216\n",
       "..       ...        ...        ...        ...\n",
       "95 -0.066157   9.867685  20.387742  10.520056\n",
       "96  1.319828  12.639656  48.705636  36.065981\n",
       "97 -0.323021   9.353958   6.073753   3.280205\n",
       "98 -0.484149   9.031701   2.524269   6.507432\n",
       "99  0.694592  11.389184  19.740346   8.351161\n",
       "\n",
       "[100 rows x 4 columns]"
      ]
     },
     "execution_count": 37,
     "metadata": {},
     "output_type": "execute_result"
    }
   ],
   "source": [
    "df[\"error\"] = (df[\"y_pred\"] - df[\"y\"]).apply(abs)\n",
    "df"
   ]
  },
  {
   "cell_type": "markdown",
   "id": "4117554e",
   "metadata": {},
   "source": [
    "We could then average together all these errors to distill our predictions down to one number that represents the \"badness\" of our model."
   ]
  },
  {
   "cell_type": "code",
   "execution_count": 38,
   "id": "2c363344",
   "metadata": {},
   "outputs": [
    {
     "data": {
      "text/plain": [
       "16.39407059165571"
      ]
     },
     "execution_count": 38,
     "metadata": {},
     "output_type": "execute_result"
    }
   ],
   "source": [
    "df[\"error\"].mean()"
   ]
  },
  {
   "cell_type": "markdown",
   "id": "15c10a7f",
   "metadata": {},
   "source": [
    "This works, but a more common choice for regression is **mean squared error**, or **MSE**. All it does is take the square of the difference between predicted and actual values, and then takes the mean across all predictions. Also, to slip into some more machine learning terminology, we'll call the resulting value **loss** instead of error, and the function that produces loss (in this case, MSE) our **loss function**. If you're interested, here's the formal definition of MSE:\n",
    "$$\n",
    "\\text{MSE} = \\frac{1}{n}\\sum_{i=1}^{n}{(\\hat{y}_i-y_i)^2}\n",
    "$$\n",
    "\n",
    "##### Discussion Question: Why not just stick with absolute error?"
   ]
  },
  {
   "cell_type": "code",
   "execution_count": 39,
   "id": "8fb917bd",
   "metadata": {},
   "outputs": [],
   "source": [
    "# Use ML lingo\n",
    "df = df.rename(columns={\"error\": \"loss\"})"
   ]
  },
  {
   "cell_type": "code",
   "execution_count": 43,
   "id": "6fdaeb4a",
   "metadata": {},
   "outputs": [
    {
     "data": {
      "text/html": [
       "<div>\n",
       "<style scoped>\n",
       "    .dataframe tbody tr th:only-of-type {\n",
       "        vertical-align: middle;\n",
       "    }\n",
       "\n",
       "    .dataframe tbody tr th {\n",
       "        vertical-align: top;\n",
       "    }\n",
       "\n",
       "    .dataframe thead th {\n",
       "        text-align: right;\n",
       "    }\n",
       "</style>\n",
       "<table border=\"1\" class=\"dataframe\">\n",
       "  <thead>\n",
       "    <tr style=\"text-align: right;\">\n",
       "      <th></th>\n",
       "      <th>x</th>\n",
       "      <th>y_pred</th>\n",
       "      <th>y</th>\n",
       "      <th>loss</th>\n",
       "    </tr>\n",
       "  </thead>\n",
       "  <tbody>\n",
       "    <tr>\n",
       "      <th>0</th>\n",
       "      <td>0.081395</td>\n",
       "      <td>10.162789</td>\n",
       "      <td>26.237272</td>\n",
       "      <td>258.388985</td>\n",
       "    </tr>\n",
       "    <tr>\n",
       "      <th>1</th>\n",
       "      <td>-0.108072</td>\n",
       "      <td>9.783857</td>\n",
       "      <td>20.015537</td>\n",
       "      <td>104.687285</td>\n",
       "    </tr>\n",
       "    <tr>\n",
       "      <th>2</th>\n",
       "      <td>-0.192439</td>\n",
       "      <td>9.615123</td>\n",
       "      <td>24.014090</td>\n",
       "      <td>207.330246</td>\n",
       "    </tr>\n",
       "    <tr>\n",
       "      <th>3</th>\n",
       "      <td>2.465109</td>\n",
       "      <td>14.930218</td>\n",
       "      <td>49.119550</td>\n",
       "      <td>1168.910409</td>\n",
       "    </tr>\n",
       "    <tr>\n",
       "      <th>4</th>\n",
       "      <td>-0.113404</td>\n",
       "      <td>9.773191</td>\n",
       "      <td>-3.770025</td>\n",
       "      <td>183.418697</td>\n",
       "    </tr>\n",
       "    <tr>\n",
       "      <th>...</th>\n",
       "      <td>...</td>\n",
       "      <td>...</td>\n",
       "      <td>...</td>\n",
       "      <td>...</td>\n",
       "    </tr>\n",
       "    <tr>\n",
       "      <th>95</th>\n",
       "      <td>-0.066157</td>\n",
       "      <td>9.867685</td>\n",
       "      <td>20.387742</td>\n",
       "      <td>110.671588</td>\n",
       "    </tr>\n",
       "    <tr>\n",
       "      <th>96</th>\n",
       "      <td>1.319828</td>\n",
       "      <td>12.639656</td>\n",
       "      <td>48.705636</td>\n",
       "      <td>1300.754963</td>\n",
       "    </tr>\n",
       "    <tr>\n",
       "      <th>97</th>\n",
       "      <td>-0.323021</td>\n",
       "      <td>9.353958</td>\n",
       "      <td>6.073753</td>\n",
       "      <td>10.759747</td>\n",
       "    </tr>\n",
       "    <tr>\n",
       "      <th>98</th>\n",
       "      <td>-0.484149</td>\n",
       "      <td>9.031701</td>\n",
       "      <td>2.524269</td>\n",
       "      <td>42.346677</td>\n",
       "    </tr>\n",
       "    <tr>\n",
       "      <th>99</th>\n",
       "      <td>0.694592</td>\n",
       "      <td>11.389184</td>\n",
       "      <td>19.740346</td>\n",
       "      <td>69.741898</td>\n",
       "    </tr>\n",
       "  </tbody>\n",
       "</table>\n",
       "<p>100 rows × 4 columns</p>\n",
       "</div>"
      ],
      "text/plain": [
       "           x     y_pred          y         loss\n",
       "0   0.081395  10.162789  26.237272   258.388985\n",
       "1  -0.108072   9.783857  20.015537   104.687285\n",
       "2  -0.192439   9.615123  24.014090   207.330246\n",
       "3   2.465109  14.930218  49.119550  1168.910409\n",
       "4  -0.113404   9.773191  -3.770025   183.418697\n",
       "..       ...        ...        ...          ...\n",
       "95 -0.066157   9.867685  20.387742   110.671588\n",
       "96  1.319828  12.639656  48.705636  1300.754963\n",
       "97 -0.323021   9.353958   6.073753    10.759747\n",
       "98 -0.484149   9.031701   2.524269    42.346677\n",
       "99  0.694592  11.389184  19.740346    69.741898\n",
       "\n",
       "[100 rows x 4 columns]"
      ]
     },
     "execution_count": 43,
     "metadata": {},
     "output_type": "execute_result"
    }
   ],
   "source": [
    "# Take the difference, then square\n",
    "# Activity 2: Try implementing mean squared error with pandas! Place your outputs into a new column called [\"loss\"]\n",
    "# Your predictions are df[\"y_pred\"], the actual values are df[\"y\"]\n",
    "df[\"loss\"] = (df[\"y_pred\"] - df[\"y\"]).map(lambda x: x**2)\n",
    "df"
   ]
  },
  {
   "cell_type": "code",
   "execution_count": 44,
   "id": "0419f27a",
   "metadata": {},
   "outputs": [
    {
     "data": {
      "text/plain": [
       "456.404060646876"
      ]
     },
     "execution_count": 44,
     "metadata": {},
     "output_type": "execute_result"
    }
   ],
   "source": [
    "df[\"loss\"].mean()"
   ]
  },
  {
   "cell_type": "markdown",
   "id": "64622269",
   "metadata": {},
   "source": [
    "There's our loss! Let's try a different set of parameters and see if we increase or decrease the loss:"
   ]
  },
  {
   "cell_type": "code",
   "execution_count": 45,
   "id": "4f2b2502",
   "metadata": {},
   "outputs": [
    {
     "data": {
      "text/plain": [
       "185.11241518331036"
      ]
     },
     "execution_count": 45,
     "metadata": {},
     "output_type": "execute_result"
    }
   ],
   "source": [
    "# New model: w = 10 and b = 15\n",
    "model_2 = defineLinearModel(10, 15)\n",
    "# Make predictions (inference)\n",
    "df[\"y_pred\"] = [model_2(x_) for x_ in df[\"x\"]]\n",
    "# Calculate loss (MSE)\n",
    "df[\"loss\"] = (df[\"y_pred\"] - df[\"y\"]).map(lambda x: x**2)\n",
    "df[\"loss\"].mean()"
   ]
  },
  {
   "cell_type": "markdown",
   "id": "4afb271e",
   "metadata": {},
   "source": [
    "Nice! By tweaking our model's parameters, we can decrease the loss.\n",
    "\n",
    "> So what?\n",
    "\n",
    "Remember from last week's session that machine learning is built on the idea that *learning* is roughly equivalent to *minimizing some cost* (or conversely, increasing some reward). This makes intuitive sense, because the closer the loss gets to 0, the closer the model's predictions are to the true values, so we would say the model has \"learned\" the data. That means that the machine learning model's job is to **find the parameters that minimize the loss**.\n",
    "\n",
    "> How do machine learning models find those optimal parameters?\n",
    "\n",
    "That is a very important question with an equally important question, but we'll have to save for next session in the interest of time :) For now, just know that there's a process that many machine learning algorithms use to find those parameters."
   ]
  },
  {
   "cell_type": "markdown",
   "id": "f2fbe000",
   "metadata": {},
   "source": [
    "Let's use `scikit-learn`'s <a href=\"https://scikit-learn.org/stable/modules/generated/sklearn.linear_model.LinearRegression.html\">LinearRegression</a> model to fit our generated data."
   ]
  },
  {
   "cell_type": "code",
   "execution_count": 46,
   "id": "e6ad1b60",
   "metadata": {},
   "outputs": [
    {
     "name": "stdout",
     "output_type": "stream",
     "text": [
      "[0.08139469] => 26.237271800564137\n",
      "[-0.10807164] => 20.015537186266776\n",
      "[-0.19243861] => 24.014089644407456\n",
      "[2.46510888] => 49.119549558537244\n",
      "[-0.11340434] => -3.7700245735677385\n",
      "[1.1521841] => 64.3306595003543\n",
      "[0.83980736] => 34.51937071773668\n",
      "[-0.54281703] => 3.015369847903938\n",
      "[1.23979542] => 43.79286019613222\n",
      "[0.30697479] => 20.416206766201885\n"
     ]
    }
   ],
   "source": [
    "# Just to remember what our data looks like\n",
    "for i in range(10):\n",
    "    print(f\"{X[i]} => {y[i]}\")"
   ]
  },
  {
   "cell_type": "code",
   "execution_count": 47,
   "id": "12b1cea7",
   "metadata": {},
   "outputs": [
    {
     "data": {
      "text/html": [
       "<style>#sk-container-id-1 {color: black;background-color: white;}#sk-container-id-1 pre{padding: 0;}#sk-container-id-1 div.sk-toggleable {background-color: white;}#sk-container-id-1 label.sk-toggleable__label {cursor: pointer;display: block;width: 100%;margin-bottom: 0;padding: 0.3em;box-sizing: border-box;text-align: center;}#sk-container-id-1 label.sk-toggleable__label-arrow:before {content: \"▸\";float: left;margin-right: 0.25em;color: #696969;}#sk-container-id-1 label.sk-toggleable__label-arrow:hover:before {color: black;}#sk-container-id-1 div.sk-estimator:hover label.sk-toggleable__label-arrow:before {color: black;}#sk-container-id-1 div.sk-toggleable__content {max-height: 0;max-width: 0;overflow: hidden;text-align: left;background-color: #f0f8ff;}#sk-container-id-1 div.sk-toggleable__content pre {margin: 0.2em;color: black;border-radius: 0.25em;background-color: #f0f8ff;}#sk-container-id-1 input.sk-toggleable__control:checked~div.sk-toggleable__content {max-height: 200px;max-width: 100%;overflow: auto;}#sk-container-id-1 input.sk-toggleable__control:checked~label.sk-toggleable__label-arrow:before {content: \"▾\";}#sk-container-id-1 div.sk-estimator input.sk-toggleable__control:checked~label.sk-toggleable__label {background-color: #d4ebff;}#sk-container-id-1 div.sk-label input.sk-toggleable__control:checked~label.sk-toggleable__label {background-color: #d4ebff;}#sk-container-id-1 input.sk-hidden--visually {border: 0;clip: rect(1px 1px 1px 1px);clip: rect(1px, 1px, 1px, 1px);height: 1px;margin: -1px;overflow: hidden;padding: 0;position: absolute;width: 1px;}#sk-container-id-1 div.sk-estimator {font-family: monospace;background-color: #f0f8ff;border: 1px dotted black;border-radius: 0.25em;box-sizing: border-box;margin-bottom: 0.5em;}#sk-container-id-1 div.sk-estimator:hover {background-color: #d4ebff;}#sk-container-id-1 div.sk-parallel-item::after {content: \"\";width: 100%;border-bottom: 1px solid gray;flex-grow: 1;}#sk-container-id-1 div.sk-label:hover label.sk-toggleable__label {background-color: #d4ebff;}#sk-container-id-1 div.sk-serial::before {content: \"\";position: absolute;border-left: 1px solid gray;box-sizing: border-box;top: 0;bottom: 0;left: 50%;z-index: 0;}#sk-container-id-1 div.sk-serial {display: flex;flex-direction: column;align-items: center;background-color: white;padding-right: 0.2em;padding-left: 0.2em;position: relative;}#sk-container-id-1 div.sk-item {position: relative;z-index: 1;}#sk-container-id-1 div.sk-parallel {display: flex;align-items: stretch;justify-content: center;background-color: white;position: relative;}#sk-container-id-1 div.sk-item::before, #sk-container-id-1 div.sk-parallel-item::before {content: \"\";position: absolute;border-left: 1px solid gray;box-sizing: border-box;top: 0;bottom: 0;left: 50%;z-index: -1;}#sk-container-id-1 div.sk-parallel-item {display: flex;flex-direction: column;z-index: 1;position: relative;background-color: white;}#sk-container-id-1 div.sk-parallel-item:first-child::after {align-self: flex-end;width: 50%;}#sk-container-id-1 div.sk-parallel-item:last-child::after {align-self: flex-start;width: 50%;}#sk-container-id-1 div.sk-parallel-item:only-child::after {width: 0;}#sk-container-id-1 div.sk-dashed-wrapped {border: 1px dashed gray;margin: 0 0.4em 0.5em 0.4em;box-sizing: border-box;padding-bottom: 0.4em;background-color: white;}#sk-container-id-1 div.sk-label label {font-family: monospace;font-weight: bold;display: inline-block;line-height: 1.2em;}#sk-container-id-1 div.sk-label-container {text-align: center;}#sk-container-id-1 div.sk-container {/* jupyter's `normalize.less` sets `[hidden] { display: none; }` but bootstrap.min.css set `[hidden] { display: none !important; }` so we also need the `!important` here to be able to override the default hidden behavior on the sphinx rendered scikit-learn.org. See: https://github.com/scikit-learn/scikit-learn/issues/21755 */display: inline-block !important;position: relative;}#sk-container-id-1 div.sk-text-repr-fallback {display: none;}</style><div id=\"sk-container-id-1\" class=\"sk-top-container\"><div class=\"sk-text-repr-fallback\"><pre>LinearRegression()</pre><b>In a Jupyter environment, please rerun this cell to show the HTML representation or trust the notebook. <br />On GitHub, the HTML representation is unable to render, please try loading this page with nbviewer.org.</b></div><div class=\"sk-container\" hidden><div class=\"sk-item\"><div class=\"sk-estimator sk-toggleable\"><input class=\"sk-toggleable__control sk-hidden--visually\" id=\"sk-estimator-id-1\" type=\"checkbox\" checked><label for=\"sk-estimator-id-1\" class=\"sk-toggleable__label sk-toggleable__label-arrow\">LinearRegression</label><div class=\"sk-toggleable__content\"><pre>LinearRegression()</pre></div></div></div></div></div>"
      ],
      "text/plain": [
       "LinearRegression()"
      ]
     },
     "execution_count": 47,
     "metadata": {},
     "output_type": "execute_result"
    }
   ],
   "source": [
    "from sklearn.linear_model import LinearRegression\n",
    "reg = LinearRegression()\n",
    "reg.fit(X, y)"
   ]
  },
  {
   "cell_type": "markdown",
   "id": "3d52defe",
   "metadata": {},
   "source": [
    "Yep, that's right. All it took was to call `.fit()`. When we called `.fit()`, the model followed the linear regression algorithm to determine which parameters (namely, one weight and a bias) minimized the loss. Just to prove I'm not pulling this out of thin air, check out this line taken directly from the documentation (linked above):\n",
    "> LinearRegression fits a linear model with coefficients w = (w1, …, wp) to minimize the residual sum of squares between the observed targets in the dataset, and the targets predicted by the linear approximation.\n",
    "\n",
    "Remember, learning (in ML) is nearly always about optimizing some value– in this case, sum of squares (almost the same as mean squared error, the difference is just a factor of $n$).\n",
    "\n",
    "Let's have a look at which parameters the model settled on:"
   ]
  },
  {
   "cell_type": "code",
   "execution_count": 48,
   "id": "8d97e7a6",
   "metadata": {},
   "outputs": [
    {
     "name": "stdout",
     "output_type": "stream",
     "text": [
      "The calculated weight is 17.1678481577581\n",
      "The calculated bias is 20.003846977312833\n"
     ]
    }
   ],
   "source": [
    "print(f\"The calculated weight is {reg.coef_[0]}\")\n",
    "print(f\"The calculated bias is {reg.intercept_}\")"
   ]
  },
  {
   "cell_type": "markdown",
   "id": "25207800",
   "metadata": {},
   "source": [
    "And to compare these values to the \"correct\" ones:"
   ]
  },
  {
   "cell_type": "code",
   "execution_count": 49,
   "id": "b3dd7a8a",
   "metadata": {},
   "outputs": [
    {
     "name": "stdout",
     "output_type": "stream",
     "text": [
      "The 'actual' weight is 16.681383022164674\n",
      "The 'actual' bias is 20\n"
     ]
    }
   ],
   "source": [
    "print(f\"The 'actual' weight is {coef}\")\n",
    "print(f\"The 'actual' bias is {bias}\")"
   ]
  },
  {
   "cell_type": "markdown",
   "id": "1c87e2be",
   "metadata": {},
   "source": [
    "Very close! Since the generated data has some noise associated with it, this is likely as close as we could possibly get. Let's run some inference and check that our predictions are close:"
   ]
  },
  {
   "cell_type": "code",
   "execution_count": null,
   "id": "b1610537",
   "metadata": {},
   "outputs": [],
   "source": [
    "# Make predictions (inference)\n",
    "df[\"y_pred\"] = reg.predict(X)\n",
    "# Calculate loss (MSE)\n",
    "df[\"loss\"] = (df[\"y_pred\"] - df[\"y\"]).map(lambda x: x**2)\n",
    "df"
   ]
  },
  {
   "cell_type": "markdown",
   "id": "307a2d81",
   "metadata": {},
   "source": [
    "And, let's plot the line:"
   ]
  },
  {
   "cell_type": "code",
   "execution_count": null,
   "id": "9e68ca2f",
   "metadata": {},
   "outputs": [],
   "source": [
    "def abline(slope, intercept):\n",
    "    \"\"\"Plot a line from slope and intercept\"\"\"\n",
    "    axes = plt.gca()\n",
    "    x_vals = np.array(axes.get_xlim())\n",
    "    y_vals = intercept + slope * x_vals\n",
    "    plt.plot(x_vals, y_vals, '--', color=\"red\")"
   ]
  },
  {
   "cell_type": "code",
   "execution_count": null,
   "id": "8337dd4b",
   "metadata": {
    "scrolled": true
   },
   "outputs": [],
   "source": [
    "sns.scatterplot(x=x, y=y)\n",
    "abline(reg.coef_[0], reg.intercept_)\n",
    "plt.show()"
   ]
  },
  {
   "cell_type": "markdown",
   "id": "8d2b5d07",
   "metadata": {},
   "source": [
    "Looks right!"
   ]
  },
  {
   "cell_type": "markdown",
   "id": "193fdb18",
   "metadata": {},
   "source": [
    "### When is Linear Regression Not a Good Idea?\n",
    "\n",
    "This one won't come as much of a surprise- don't use linear regression if your data isn't roughly linear! Let's see what happens if you try:"
   ]
  },
  {
   "cell_type": "code",
   "execution_count": null,
   "id": "8c7b580c",
   "metadata": {},
   "outputs": [],
   "source": [
    "# Generate quadratic data\n",
    "def quadratic(x):\n",
    "    return 2 + 3 * (x - 4)**2\n",
    "\n",
    "X_quad = np.arange(-20, 20)\n",
    "y_quad = [quadratic(x) for x in X_quad]\n",
    "\n",
    "sns.scatterplot(x=X_quad, y=y_quad)\n",
    "plt.show()"
   ]
  },
  {
   "cell_type": "code",
   "execution_count": null,
   "id": "8693b160",
   "metadata": {},
   "outputs": [],
   "source": [
    "# Fit a linear model\n",
    "reg_quad = LinearRegression().fit(np.expand_dims(X_quad, axis=-1), y_quad)"
   ]
  },
  {
   "cell_type": "code",
   "execution_count": null,
   "id": "19b9a6cf",
   "metadata": {},
   "outputs": [],
   "source": [
    "# Visual check\n",
    "sns.scatterplot(x=X_quad, y=y_quad)\n",
    "abline(reg_quad.coef_[0], reg_quad.intercept_)\n",
    "plt.show()"
   ]
  },
  {
   "cell_type": "markdown",
   "id": "c9159659",
   "metadata": {},
   "source": [
    "### Activity 3: \n",
    "Generate some data with different polynomial degrees. Perform linear regression and see what happens as your degrees increase. Test your results with mean squared error that has been implemented below"
   ]
  },
  {
   "cell_type": "code",
   "execution_count": null,
   "id": "02652469",
   "metadata": {},
   "outputs": [],
   "source": [
    "def mean_squared_error(predictions, actual):\n",
    "    return (predictions - actual) ** 2"
   ]
  },
  {
   "cell_type": "code",
   "execution_count": null,
   "id": "7aec4c6c",
   "metadata": {},
   "outputs": [],
   "source": [
    "X_test = np.arange(-20, 20)"
   ]
  },
  {
   "cell_type": "markdown",
   "id": "02427f64",
   "metadata": {},
   "source": [
    "Sorry, not even close. But that was literally the best it could do!\n",
    "\n",
    "This gets at a larger point about machine learning. Soon, you'll know about a dozen different machine learning algorithms, which is awesome! But you need to also remember the strengths and weaknesses of each one. For example, linear regression model will never truly learn non-linear data."
   ]
  },
  {
   "cell_type": "markdown",
   "id": "221470fc",
   "metadata": {},
   "source": [
    "### Generalizing!\n",
    "\n",
    "We're about to do something pretty cool. Just by reframing how we think of a linear regression model, we'll find ourselves at the doorstep of deep learning! First, let's visualize a linear regression model like this:\n",
    "\n",
    "<img src=\"images/lin_reg_1d.png\" width=\"350px\">"
   ]
  },
  {
   "cell_type": "markdown",
   "id": "b6b747fd",
   "metadata": {},
   "source": [
    "We have one input variable, $x$, and one output variable $y$. We multiply $x$ by its weight $w$, and add the bias $b$ to get our output variable. Simple enough, right? What if we had multiple input variables? What would that look like?\n",
    "Mathematically, we would be going from\n",
    "\n",
    "$$\n",
    "wx + b = y\n",
    "$$\n",
    "to\n",
    "$$\n",
    "w_1x_1 + w_2x_2 + ... + w_nx_n + b = y\n",
    "$$\n",
    "\n",
    "If you think about that, it should make sense. Each variable $x_i$ deserves their own weight (how much, and in which direction does that variable affect the output variable $y$?), and we still need a bias that doesn't depend on any of the inputs. Here's how we can visualize it:\n",
    "\n",
    "<img src=\"images/lin_reg_nd.png\" width=\"350px\">"
   ]
  },
  {
   "cell_type": "markdown",
   "id": "98d10fa6",
   "metadata": {},
   "source": [
    "Just to show you how this could be done with code, let's use the same `scikit-learn` data generator function to generate 3D input data:"
   ]
  },
  {
   "cell_type": "code",
   "execution_count": null,
   "id": "0b7462f4",
   "metadata": {},
   "outputs": [],
   "source": [
    "# 3D input => scalar output\n",
    "X_2, y_2 = datasets.make_regression(n_features=3, noise=10, bias=20, random_state=43)\n",
    "# Print first 10\n",
    "for i in range(10):\n",
    "    print(f\"{X_2[i]} => {y_2[i]}\")"
   ]
  },
  {
   "cell_type": "code",
   "execution_count": null,
   "id": "56aede17",
   "metadata": {},
   "outputs": [],
   "source": [
    "# Just like before, we can fit a linear regression model to this data\n",
    "reg_2 = LinearRegression().fit(X_2, y_2)\n",
    "print(f\"Weights: {reg_2.coef_}\")\n",
    "print(f\"Bias: {reg_2.intercept_}\")"
   ]
  },
  {
   "cell_type": "markdown",
   "id": "2a3ad9f8",
   "metadata": {},
   "source": [
    "Notice how there's **three** weights; one for each input variable! Like always, we can make predictions using this model."
   ]
  },
  {
   "cell_type": "code",
   "execution_count": null,
   "id": "91060283",
   "metadata": {},
   "outputs": [],
   "source": [
    "input_x = np.array([[-0.5, 1, 0.25]])\n",
    "print(f\"Input X: {input_x}\")\n",
    "pred = reg_2.predict(input_x)\n",
    "print(f\"Prediction: {pred}\")"
   ]
  },
  {
   "cell_type": "markdown",
   "id": "720d4422",
   "metadata": {},
   "source": [
    "## Case Study\n",
    "Now that we've dealt with the theory, let's see what linear regression is like in practice!\n",
    "\n",
    "We'll be dealing with real estate data, so let's go ahead and import the data into the variable `house_data`. Don't worry about all of the `pandas` (`pd`) stuff, the comments will explain what each step is doing; the main focus is on the machine learning."
   ]
  },
  {
   "cell_type": "code",
   "execution_count": 50,
   "id": "c969c2b2",
   "metadata": {},
   "outputs": [
    {
     "data": {
      "text/html": [
       "<div>\n",
       "<style scoped>\n",
       "    .dataframe tbody tr th:only-of-type {\n",
       "        vertical-align: middle;\n",
       "    }\n",
       "\n",
       "    .dataframe tbody tr th {\n",
       "        vertical-align: top;\n",
       "    }\n",
       "\n",
       "    .dataframe thead th {\n",
       "        text-align: right;\n",
       "    }\n",
       "</style>\n",
       "<table border=\"1\" class=\"dataframe\">\n",
       "  <thead>\n",
       "    <tr style=\"text-align: right;\">\n",
       "      <th></th>\n",
       "      <th>Id</th>\n",
       "      <th>MSSubClass</th>\n",
       "      <th>MSZoning</th>\n",
       "      <th>LotFrontage</th>\n",
       "      <th>LotArea</th>\n",
       "      <th>Street</th>\n",
       "      <th>Alley</th>\n",
       "      <th>LotShape</th>\n",
       "      <th>LandContour</th>\n",
       "      <th>Utilities</th>\n",
       "      <th>...</th>\n",
       "      <th>PoolArea</th>\n",
       "      <th>PoolQC</th>\n",
       "      <th>Fence</th>\n",
       "      <th>MiscFeature</th>\n",
       "      <th>MiscVal</th>\n",
       "      <th>MoSold</th>\n",
       "      <th>YrSold</th>\n",
       "      <th>SaleType</th>\n",
       "      <th>SaleCondition</th>\n",
       "      <th>SalePrice</th>\n",
       "    </tr>\n",
       "  </thead>\n",
       "  <tbody>\n",
       "    <tr>\n",
       "      <th>0</th>\n",
       "      <td>1</td>\n",
       "      <td>60</td>\n",
       "      <td>RL</td>\n",
       "      <td>65.0</td>\n",
       "      <td>8450</td>\n",
       "      <td>Pave</td>\n",
       "      <td>NaN</td>\n",
       "      <td>Reg</td>\n",
       "      <td>Lvl</td>\n",
       "      <td>AllPub</td>\n",
       "      <td>...</td>\n",
       "      <td>0</td>\n",
       "      <td>NaN</td>\n",
       "      <td>NaN</td>\n",
       "      <td>NaN</td>\n",
       "      <td>0</td>\n",
       "      <td>2</td>\n",
       "      <td>2008</td>\n",
       "      <td>WD</td>\n",
       "      <td>Normal</td>\n",
       "      <td>208500</td>\n",
       "    </tr>\n",
       "    <tr>\n",
       "      <th>1</th>\n",
       "      <td>2</td>\n",
       "      <td>20</td>\n",
       "      <td>RL</td>\n",
       "      <td>80.0</td>\n",
       "      <td>9600</td>\n",
       "      <td>Pave</td>\n",
       "      <td>NaN</td>\n",
       "      <td>Reg</td>\n",
       "      <td>Lvl</td>\n",
       "      <td>AllPub</td>\n",
       "      <td>...</td>\n",
       "      <td>0</td>\n",
       "      <td>NaN</td>\n",
       "      <td>NaN</td>\n",
       "      <td>NaN</td>\n",
       "      <td>0</td>\n",
       "      <td>5</td>\n",
       "      <td>2007</td>\n",
       "      <td>WD</td>\n",
       "      <td>Normal</td>\n",
       "      <td>181500</td>\n",
       "    </tr>\n",
       "    <tr>\n",
       "      <th>2</th>\n",
       "      <td>3</td>\n",
       "      <td>60</td>\n",
       "      <td>RL</td>\n",
       "      <td>68.0</td>\n",
       "      <td>11250</td>\n",
       "      <td>Pave</td>\n",
       "      <td>NaN</td>\n",
       "      <td>IR1</td>\n",
       "      <td>Lvl</td>\n",
       "      <td>AllPub</td>\n",
       "      <td>...</td>\n",
       "      <td>0</td>\n",
       "      <td>NaN</td>\n",
       "      <td>NaN</td>\n",
       "      <td>NaN</td>\n",
       "      <td>0</td>\n",
       "      <td>9</td>\n",
       "      <td>2008</td>\n",
       "      <td>WD</td>\n",
       "      <td>Normal</td>\n",
       "      <td>223500</td>\n",
       "    </tr>\n",
       "    <tr>\n",
       "      <th>3</th>\n",
       "      <td>4</td>\n",
       "      <td>70</td>\n",
       "      <td>RL</td>\n",
       "      <td>60.0</td>\n",
       "      <td>9550</td>\n",
       "      <td>Pave</td>\n",
       "      <td>NaN</td>\n",
       "      <td>IR1</td>\n",
       "      <td>Lvl</td>\n",
       "      <td>AllPub</td>\n",
       "      <td>...</td>\n",
       "      <td>0</td>\n",
       "      <td>NaN</td>\n",
       "      <td>NaN</td>\n",
       "      <td>NaN</td>\n",
       "      <td>0</td>\n",
       "      <td>2</td>\n",
       "      <td>2006</td>\n",
       "      <td>WD</td>\n",
       "      <td>Abnorml</td>\n",
       "      <td>140000</td>\n",
       "    </tr>\n",
       "    <tr>\n",
       "      <th>4</th>\n",
       "      <td>5</td>\n",
       "      <td>60</td>\n",
       "      <td>RL</td>\n",
       "      <td>84.0</td>\n",
       "      <td>14260</td>\n",
       "      <td>Pave</td>\n",
       "      <td>NaN</td>\n",
       "      <td>IR1</td>\n",
       "      <td>Lvl</td>\n",
       "      <td>AllPub</td>\n",
       "      <td>...</td>\n",
       "      <td>0</td>\n",
       "      <td>NaN</td>\n",
       "      <td>NaN</td>\n",
       "      <td>NaN</td>\n",
       "      <td>0</td>\n",
       "      <td>12</td>\n",
       "      <td>2008</td>\n",
       "      <td>WD</td>\n",
       "      <td>Normal</td>\n",
       "      <td>250000</td>\n",
       "    </tr>\n",
       "    <tr>\n",
       "      <th>...</th>\n",
       "      <td>...</td>\n",
       "      <td>...</td>\n",
       "      <td>...</td>\n",
       "      <td>...</td>\n",
       "      <td>...</td>\n",
       "      <td>...</td>\n",
       "      <td>...</td>\n",
       "      <td>...</td>\n",
       "      <td>...</td>\n",
       "      <td>...</td>\n",
       "      <td>...</td>\n",
       "      <td>...</td>\n",
       "      <td>...</td>\n",
       "      <td>...</td>\n",
       "      <td>...</td>\n",
       "      <td>...</td>\n",
       "      <td>...</td>\n",
       "      <td>...</td>\n",
       "      <td>...</td>\n",
       "      <td>...</td>\n",
       "      <td>...</td>\n",
       "    </tr>\n",
       "    <tr>\n",
       "      <th>1455</th>\n",
       "      <td>1456</td>\n",
       "      <td>60</td>\n",
       "      <td>RL</td>\n",
       "      <td>62.0</td>\n",
       "      <td>7917</td>\n",
       "      <td>Pave</td>\n",
       "      <td>NaN</td>\n",
       "      <td>Reg</td>\n",
       "      <td>Lvl</td>\n",
       "      <td>AllPub</td>\n",
       "      <td>...</td>\n",
       "      <td>0</td>\n",
       "      <td>NaN</td>\n",
       "      <td>NaN</td>\n",
       "      <td>NaN</td>\n",
       "      <td>0</td>\n",
       "      <td>8</td>\n",
       "      <td>2007</td>\n",
       "      <td>WD</td>\n",
       "      <td>Normal</td>\n",
       "      <td>175000</td>\n",
       "    </tr>\n",
       "    <tr>\n",
       "      <th>1456</th>\n",
       "      <td>1457</td>\n",
       "      <td>20</td>\n",
       "      <td>RL</td>\n",
       "      <td>85.0</td>\n",
       "      <td>13175</td>\n",
       "      <td>Pave</td>\n",
       "      <td>NaN</td>\n",
       "      <td>Reg</td>\n",
       "      <td>Lvl</td>\n",
       "      <td>AllPub</td>\n",
       "      <td>...</td>\n",
       "      <td>0</td>\n",
       "      <td>NaN</td>\n",
       "      <td>MnPrv</td>\n",
       "      <td>NaN</td>\n",
       "      <td>0</td>\n",
       "      <td>2</td>\n",
       "      <td>2010</td>\n",
       "      <td>WD</td>\n",
       "      <td>Normal</td>\n",
       "      <td>210000</td>\n",
       "    </tr>\n",
       "    <tr>\n",
       "      <th>1457</th>\n",
       "      <td>1458</td>\n",
       "      <td>70</td>\n",
       "      <td>RL</td>\n",
       "      <td>66.0</td>\n",
       "      <td>9042</td>\n",
       "      <td>Pave</td>\n",
       "      <td>NaN</td>\n",
       "      <td>Reg</td>\n",
       "      <td>Lvl</td>\n",
       "      <td>AllPub</td>\n",
       "      <td>...</td>\n",
       "      <td>0</td>\n",
       "      <td>NaN</td>\n",
       "      <td>GdPrv</td>\n",
       "      <td>Shed</td>\n",
       "      <td>2500</td>\n",
       "      <td>5</td>\n",
       "      <td>2010</td>\n",
       "      <td>WD</td>\n",
       "      <td>Normal</td>\n",
       "      <td>266500</td>\n",
       "    </tr>\n",
       "    <tr>\n",
       "      <th>1458</th>\n",
       "      <td>1459</td>\n",
       "      <td>20</td>\n",
       "      <td>RL</td>\n",
       "      <td>68.0</td>\n",
       "      <td>9717</td>\n",
       "      <td>Pave</td>\n",
       "      <td>NaN</td>\n",
       "      <td>Reg</td>\n",
       "      <td>Lvl</td>\n",
       "      <td>AllPub</td>\n",
       "      <td>...</td>\n",
       "      <td>0</td>\n",
       "      <td>NaN</td>\n",
       "      <td>NaN</td>\n",
       "      <td>NaN</td>\n",
       "      <td>0</td>\n",
       "      <td>4</td>\n",
       "      <td>2010</td>\n",
       "      <td>WD</td>\n",
       "      <td>Normal</td>\n",
       "      <td>142125</td>\n",
       "    </tr>\n",
       "    <tr>\n",
       "      <th>1459</th>\n",
       "      <td>1460</td>\n",
       "      <td>20</td>\n",
       "      <td>RL</td>\n",
       "      <td>75.0</td>\n",
       "      <td>9937</td>\n",
       "      <td>Pave</td>\n",
       "      <td>NaN</td>\n",
       "      <td>Reg</td>\n",
       "      <td>Lvl</td>\n",
       "      <td>AllPub</td>\n",
       "      <td>...</td>\n",
       "      <td>0</td>\n",
       "      <td>NaN</td>\n",
       "      <td>NaN</td>\n",
       "      <td>NaN</td>\n",
       "      <td>0</td>\n",
       "      <td>6</td>\n",
       "      <td>2008</td>\n",
       "      <td>WD</td>\n",
       "      <td>Normal</td>\n",
       "      <td>147500</td>\n",
       "    </tr>\n",
       "  </tbody>\n",
       "</table>\n",
       "<p>1460 rows × 81 columns</p>\n",
       "</div>"
      ],
      "text/plain": [
       "        Id  MSSubClass MSZoning  LotFrontage  LotArea Street Alley LotShape  \\\n",
       "0        1          60       RL         65.0     8450   Pave   NaN      Reg   \n",
       "1        2          20       RL         80.0     9600   Pave   NaN      Reg   \n",
       "2        3          60       RL         68.0    11250   Pave   NaN      IR1   \n",
       "3        4          70       RL         60.0     9550   Pave   NaN      IR1   \n",
       "4        5          60       RL         84.0    14260   Pave   NaN      IR1   \n",
       "...    ...         ...      ...          ...      ...    ...   ...      ...   \n",
       "1455  1456          60       RL         62.0     7917   Pave   NaN      Reg   \n",
       "1456  1457          20       RL         85.0    13175   Pave   NaN      Reg   \n",
       "1457  1458          70       RL         66.0     9042   Pave   NaN      Reg   \n",
       "1458  1459          20       RL         68.0     9717   Pave   NaN      Reg   \n",
       "1459  1460          20       RL         75.0     9937   Pave   NaN      Reg   \n",
       "\n",
       "     LandContour Utilities  ... PoolArea PoolQC  Fence MiscFeature MiscVal  \\\n",
       "0            Lvl    AllPub  ...        0    NaN    NaN         NaN       0   \n",
       "1            Lvl    AllPub  ...        0    NaN    NaN         NaN       0   \n",
       "2            Lvl    AllPub  ...        0    NaN    NaN         NaN       0   \n",
       "3            Lvl    AllPub  ...        0    NaN    NaN         NaN       0   \n",
       "4            Lvl    AllPub  ...        0    NaN    NaN         NaN       0   \n",
       "...          ...       ...  ...      ...    ...    ...         ...     ...   \n",
       "1455         Lvl    AllPub  ...        0    NaN    NaN         NaN       0   \n",
       "1456         Lvl    AllPub  ...        0    NaN  MnPrv         NaN       0   \n",
       "1457         Lvl    AllPub  ...        0    NaN  GdPrv        Shed    2500   \n",
       "1458         Lvl    AllPub  ...        0    NaN    NaN         NaN       0   \n",
       "1459         Lvl    AllPub  ...        0    NaN    NaN         NaN       0   \n",
       "\n",
       "     MoSold YrSold  SaleType  SaleCondition  SalePrice  \n",
       "0         2   2008        WD         Normal     208500  \n",
       "1         5   2007        WD         Normal     181500  \n",
       "2         9   2008        WD         Normal     223500  \n",
       "3         2   2006        WD        Abnorml     140000  \n",
       "4        12   2008        WD         Normal     250000  \n",
       "...     ...    ...       ...            ...        ...  \n",
       "1455      8   2007        WD         Normal     175000  \n",
       "1456      2   2010        WD         Normal     210000  \n",
       "1457      5   2010        WD         Normal     266500  \n",
       "1458      4   2010        WD         Normal     142125  \n",
       "1459      6   2008        WD         Normal     147500  \n",
       "\n",
       "[1460 rows x 81 columns]"
      ]
     },
     "execution_count": 50,
     "metadata": {},
     "output_type": "execute_result"
    }
   ],
   "source": [
    "# Load data from csv (comma separated values) file into a pandas DataFrame\n",
    "# A DataFrame is basically a table\n",
    "house_data = pd.read_csv(\"data/houses.csv\")\n",
    "house_data"
   ]
  },
  {
   "cell_type": "markdown",
   "id": "dfd3a88b",
   "metadata": {},
   "source": [
    "As you can see, there are a lot of houses (1460), each of which has 81 features, like the total lot area and the price it sold for."
   ]
  },
  {
   "cell_type": "code",
   "execution_count": 51,
   "id": "d67e9a10",
   "metadata": {},
   "outputs": [
    {
     "data": {
      "text/plain": [
       "Index(['Id', 'MSSubClass', 'MSZoning', 'LotFrontage', 'LotArea', 'Street',\n",
       "       'Alley', 'LotShape', 'LandContour', 'Utilities', 'LotConfig',\n",
       "       'LandSlope', 'Neighborhood', 'Condition1', 'Condition2', 'BldgType',\n",
       "       'HouseStyle', 'OverallQual', 'OverallCond', 'YearBuilt', 'YearRemodAdd',\n",
       "       'RoofStyle', 'RoofMatl', 'Exterior1st', 'Exterior2nd', 'MasVnrType',\n",
       "       'MasVnrArea', 'ExterQual', 'ExterCond', 'Foundation', 'BsmtQual',\n",
       "       'BsmtCond', 'BsmtExposure', 'BsmtFinType1', 'BsmtFinSF1',\n",
       "       'BsmtFinType2', 'BsmtFinSF2', 'BsmtUnfSF', 'TotalBsmtSF', 'Heating',\n",
       "       'HeatingQC', 'CentralAir', 'Electrical', '1stFlrSF', '2ndFlrSF',\n",
       "       'LowQualFinSF', 'GrLivArea', 'BsmtFullBath', 'BsmtHalfBath', 'FullBath',\n",
       "       'HalfBath', 'BedroomAbvGr', 'KitchenAbvGr', 'KitchenQual',\n",
       "       'TotRmsAbvGrd', 'Functional', 'Fireplaces', 'FireplaceQu', 'GarageType',\n",
       "       'GarageYrBlt', 'GarageFinish', 'GarageCars', 'GarageArea', 'GarageQual',\n",
       "       'GarageCond', 'PavedDrive', 'WoodDeckSF', 'OpenPorchSF',\n",
       "       'EnclosedPorch', '3SsnPorch', 'ScreenPorch', 'PoolArea', 'PoolQC',\n",
       "       'Fence', 'MiscFeature', 'MiscVal', 'MoSold', 'YrSold', 'SaleType',\n",
       "       'SaleCondition', 'SalePrice'],\n",
       "      dtype='object')"
      ]
     },
     "execution_count": 51,
     "metadata": {},
     "output_type": "execute_result"
    }
   ],
   "source": [
    "# List all columns\n",
    "house_data.columns"
   ]
  },
  {
   "cell_type": "markdown",
   "id": "5a8d1cdf",
   "metadata": {},
   "source": [
    "You can see exactly what each variable means in `data/houses.txt`.\n",
    "\n",
    "### Regression\n",
    "\n",
    "Let's try to predict sale price from the overall quality (`1-10`) and lot area. First, we should visualize our variables."
   ]
  },
  {
   "cell_type": "code",
   "execution_count": 52,
   "id": "567312dc",
   "metadata": {},
   "outputs": [
    {
     "data": {
      "image/png": "[encoded data removed]",
      "text/plain": [
       "<Figure size 432x288 with 1 Axes>"
      ]
     },
     "metadata": {
      "needs_background": "light"
     },
     "output_type": "display_data"
    }
   ],
   "source": [
    "sns.scatterplot(x=house_data[\"OverallQual\"], y=house_data[\"SalePrice\"])\n",
    "plt.title(\"Sale price vs. overall quality\")\n",
    "plt.show()"
   ]
  },
  {
   "cell_type": "code",
   "execution_count": 53,
   "id": "0dcde48a",
   "metadata": {},
   "outputs": [
    {
     "data": {
      "image/png": "[encoded data removed]",
      "text/plain": [
       "<Figure size 432x288 with 1 Axes>"
      ]
     },
     "metadata": {
      "needs_background": "light"
     },
     "output_type": "display_data"
    }
   ],
   "source": [
    "sns.scatterplot(x=house_data[\"LotArea\"], y=house_data[\"SalePrice\"])\n",
    "plt.title(\"Sale price vs. lot area\")\n",
    "plt.show()"
   ]
  },
  {
   "cell_type": "markdown",
   "id": "8fc975f7",
   "metadata": {},
   "source": [
    "We can see there's a bunch of outliers; properties with *huge* lot areas. \n",
    "#### Discussion Question: What should we do about these properties with *huge* areas? Do we just leave them as is?"
   ]
  },
  {
   "cell_type": "code",
   "execution_count": null,
   "id": "9030148f",
   "metadata": {},
   "outputs": [],
   "source": []
  },
  {
   "cell_type": "code",
   "execution_count": 54,
   "id": "c2484e06",
   "metadata": {},
   "outputs": [
    {
     "data": {
      "image/png": "[encoded data removed]",
      "text/plain": [
       "<Figure size 432x288 with 1 Axes>"
      ]
     },
     "metadata": {
      "needs_background": "light"
     },
     "output_type": "display_data"
    }
   ],
   "source": [
    "sns.scatterplot(x=house_data[\"LotArea\"], y=house_data[\"SalePrice\"])\n",
    "plt.title(\"Sale price vs. lot area\")\n",
    "plt.show()"
   ]
  },
  {
   "cell_type": "markdown",
   "id": "2204ff55",
   "metadata": {},
   "source": [
    "Better! For completeness, let's plot lot area against overall quality."
   ]
  },
  {
   "cell_type": "code",
   "execution_count": 55,
   "id": "4c8ce0db",
   "metadata": {},
   "outputs": [
    {
     "data": {
      "image/png": "[encoded data removed]",
      "text/plain": [
       "<Figure size 432x288 with 1 Axes>"
      ]
     },
     "metadata": {
      "needs_background": "light"
     },
     "output_type": "display_data"
    }
   ],
   "source": [
    "sns.scatterplot(x=house_data[\"OverallQual\"], y=house_data[\"LotArea\"])\n",
    "plt.title(\"Lot area vs overall quality\")\n",
    "plt.show()"
   ]
  },
  {
   "cell_type": "markdown",
   "id": "dfcd9a70",
   "metadata": {},
   "source": [
    "Both variables seem to have a positive association with the sales price, although there's a few asterisks. `SalePrice vs LotArea` has a **lot** of variance, and overall quality is a discrete quantity, so we should keep in mind not to use non-integer qualities or qualities outside of the range 1 to 10. There's no glaring red flags, though, so we can probably continue. What's also interesting is that lot area and overall quality don't seem to be particularly associated, which is a good thing- that means they each bring unique information that can help with the regression."
   ]
  },
  {
   "cell_type": "markdown",
   "id": "3c040e62",
   "metadata": {},
   "source": [
    "Before we pull out the good old `.fit()`, let's split up our data into a **training** and **test** set. We'll use the training set to train the model, and test set to evaluate it. We'll go over why this is so important next session, but hopefully it makes sense why we'd want to do that."
   ]
  },
  {
   "cell_type": "code",
   "execution_count": 56,
   "id": "10331bd5",
   "metadata": {},
   "outputs": [],
   "source": [
    "from sklearn.model_selection import train_test_split\n",
    "X_data = house_data[[\"LotArea\", \"OverallQual\"]]\n",
    "y_data = house_data[\"SalePrice\"]\n",
    "# Separate X and y data into training and test sets; use 80% for training and 20% for testing\n",
    "X_train, X_test, y_train, y_test = train_test_split(X_data, y_data, test_size=0.2, random_state=45)"
   ]
  },
  {
   "cell_type": "markdown",
   "id": "170b7273",
   "metadata": {},
   "source": [
    "Now we can fit our linear regression model on the training data."
   ]
  },
  {
   "cell_type": "code",
   "execution_count": 57,
   "id": "e91d0097",
   "metadata": {},
   "outputs": [
    {
     "data": {
      "text/html": [
       "<style>#sk-container-id-2 {color: black;background-color: white;}#sk-container-id-2 pre{padding: 0;}#sk-container-id-2 div.sk-toggleable {background-color: white;}#sk-container-id-2 label.sk-toggleable__label {cursor: pointer;display: block;width: 100%;margin-bottom: 0;padding: 0.3em;box-sizing: border-box;text-align: center;}#sk-container-id-2 label.sk-toggleable__label-arrow:before {content: \"▸\";float: left;margin-right: 0.25em;color: #696969;}#sk-container-id-2 label.sk-toggleable__label-arrow:hover:before {color: black;}#sk-container-id-2 div.sk-estimator:hover label.sk-toggleable__label-arrow:before {color: black;}#sk-container-id-2 div.sk-toggleable__content {max-height: 0;max-width: 0;overflow: hidden;text-align: left;background-color: #f0f8ff;}#sk-container-id-2 div.sk-toggleable__content pre {margin: 0.2em;color: black;border-radius: 0.25em;background-color: #f0f8ff;}#sk-container-id-2 input.sk-toggleable__control:checked~div.sk-toggleable__content {max-height: 200px;max-width: 100%;overflow: auto;}#sk-container-id-2 input.sk-toggleable__control:checked~label.sk-toggleable__label-arrow:before {content: \"▾\";}#sk-container-id-2 div.sk-estimator input.sk-toggleable__control:checked~label.sk-toggleable__label {background-color: #d4ebff;}#sk-container-id-2 div.sk-label input.sk-toggleable__control:checked~label.sk-toggleable__label {background-color: #d4ebff;}#sk-container-id-2 input.sk-hidden--visually {border: 0;clip: rect(1px 1px 1px 1px);clip: rect(1px, 1px, 1px, 1px);height: 1px;margin: -1px;overflow: hidden;padding: 0;position: absolute;width: 1px;}#sk-container-id-2 div.sk-estimator {font-family: monospace;background-color: #f0f8ff;border: 1px dotted black;border-radius: 0.25em;box-sizing: border-box;margin-bottom: 0.5em;}#sk-container-id-2 div.sk-estimator:hover {background-color: #d4ebff;}#sk-container-id-2 div.sk-parallel-item::after {content: \"\";width: 100%;border-bottom: 1px solid gray;flex-grow: 1;}#sk-container-id-2 div.sk-label:hover label.sk-toggleable__label {background-color: #d4ebff;}#sk-container-id-2 div.sk-serial::before {content: \"\";position: absolute;border-left: 1px solid gray;box-sizing: border-box;top: 0;bottom: 0;left: 50%;z-index: 0;}#sk-container-id-2 div.sk-serial {display: flex;flex-direction: column;align-items: center;background-color: white;padding-right: 0.2em;padding-left: 0.2em;position: relative;}#sk-container-id-2 div.sk-item {position: relative;z-index: 1;}#sk-container-id-2 div.sk-parallel {display: flex;align-items: stretch;justify-content: center;background-color: white;position: relative;}#sk-container-id-2 div.sk-item::before, #sk-container-id-2 div.sk-parallel-item::before {content: \"\";position: absolute;border-left: 1px solid gray;box-sizing: border-box;top: 0;bottom: 0;left: 50%;z-index: -1;}#sk-container-id-2 div.sk-parallel-item {display: flex;flex-direction: column;z-index: 1;position: relative;background-color: white;}#sk-container-id-2 div.sk-parallel-item:first-child::after {align-self: flex-end;width: 50%;}#sk-container-id-2 div.sk-parallel-item:last-child::after {align-self: flex-start;width: 50%;}#sk-container-id-2 div.sk-parallel-item:only-child::after {width: 0;}#sk-container-id-2 div.sk-dashed-wrapped {border: 1px dashed gray;margin: 0 0.4em 0.5em 0.4em;box-sizing: border-box;padding-bottom: 0.4em;background-color: white;}#sk-container-id-2 div.sk-label label {font-family: monospace;font-weight: bold;display: inline-block;line-height: 1.2em;}#sk-container-id-2 div.sk-label-container {text-align: center;}#sk-container-id-2 div.sk-container {/* jupyter's `normalize.less` sets `[hidden] { display: none; }` but bootstrap.min.css set `[hidden] { display: none !important; }` so we also need the `!important` here to be able to override the default hidden behavior on the sphinx rendered scikit-learn.org. See: https://github.com/scikit-learn/scikit-learn/issues/21755 */display: inline-block !important;position: relative;}#sk-container-id-2 div.sk-text-repr-fallback {display: none;}</style><div id=\"sk-container-id-2\" class=\"sk-top-container\"><div class=\"sk-text-repr-fallback\"><pre>LinearRegression()</pre><b>In a Jupyter environment, please rerun this cell to show the HTML representation or trust the notebook. <br />On GitHub, the HTML representation is unable to render, please try loading this page with nbviewer.org.</b></div><div class=\"sk-container\" hidden><div class=\"sk-item\"><div class=\"sk-estimator sk-toggleable\"><input class=\"sk-toggleable__control sk-hidden--visually\" id=\"sk-estimator-id-2\" type=\"checkbox\" checked><label for=\"sk-estimator-id-2\" class=\"sk-toggleable__label sk-toggleable__label-arrow\">LinearRegression</label><div class=\"sk-toggleable__content\"><pre>LinearRegression()</pre></div></div></div></div></div>"
      ],
      "text/plain": [
       "LinearRegression()"
      ]
     },
     "execution_count": 57,
     "metadata": {},
     "output_type": "execute_result"
    }
   ],
   "source": [
    "model = LinearRegression()\n",
    "# Fit model\n",
    "model.fit(X=X_train, y=y_train)"
   ]
  },
  {
   "cell_type": "markdown",
   "id": "a4ff5f43",
   "metadata": {},
   "source": [
    "To see how well it did, we can check the $R^2$. $R^2$ basically represents the percent of variance in the output variable that's explained by our regression line. $R^2=0$ means that our model explains literally none of the variance in the output variable, and $R^2=1$ means our model explains all of it (i.e. perfectly predicts every target). As a rule of thumb, $R^2 > 0.75$ is considered \"pretty good\"."
   ]
  },
  {
   "cell_type": "code",
   "execution_count": 59,
   "id": "54e0b2e1",
   "metadata": {},
   "outputs": [
    {
     "data": {
      "text/plain": [
       "0.6489474536696604"
      ]
     },
     "execution_count": 59,
     "metadata": {},
     "output_type": "execute_result"
    }
   ],
   "source": [
    "# R^2 on training set\n",
    "model.score(X=X_train, y=y_train)"
   ]
  },
  {
   "cell_type": "markdown",
   "id": "5df5c9ac",
   "metadata": {},
   "source": [
    "The training score doesn't really tell us much though, we want to check its performance on data it *hasn't* seen before: the test set."
   ]
  },
  {
   "cell_type": "code",
   "execution_count": 60,
   "id": "cf796199",
   "metadata": {},
   "outputs": [
    {
     "data": {
      "text/plain": [
       "0.694971013737929"
      ]
     },
     "execution_count": 60,
     "metadata": {},
     "output_type": "execute_result"
    }
   ],
   "source": [
    "model.score(X=X_test, y=y_test)"
   ]
  },
  {
   "cell_type": "markdown",
   "id": "08ed601e",
   "metadata": {},
   "source": [
    "Alright! It's not a fantastic score, but it's not a terrible one either. It looks like we can roughly predict the price of a house given its lot area and overall quality."
   ]
  },
  {
   "cell_type": "code",
   "execution_count": 62,
   "id": "438c50ab",
   "metadata": {},
   "outputs": [
    {
     "name": "stdout",
     "output_type": "stream",
     "text": [
      "Lot area (sq. ft.): 10000\n",
      "Overall quality (1-10): 5\n",
      "The model predicts that this house will sell for $132175\n"
     ]
    },
    {
     "name": "stderr",
     "output_type": "stream",
     "text": [
      "c:\\Users\\TXiang\\AppData\\Local\\Programs\\Python\\Python38\\lib\\site-packages\\sklearn\\base.py:450: UserWarning: X does not have valid feature names, but LinearRegression was fitted with feature names\n",
      "  warnings.warn(\n"
     ]
    }
   ],
   "source": [
    "lot_size = 10000\n",
    "quality = 5\n",
    "\n",
    "print(f\"Lot area (sq. ft.): {lot_size}\")\n",
    "print(f\"Overall quality (1-10): {quality}\")\n",
    "\n",
    "# Order matters! Needs to match what it learned from X_train\n",
    "pred = model.predict([[lot_size, quality]])\n",
    "print(f\"The model predicts that this house will sell for ${round(pred[0])}\")"
   ]
  },
  {
   "cell_type": "markdown",
   "id": "464a6165",
   "metadata": {},
   "source": [
    "Cool! Let's move on to logistic regression..."
   ]
  },
  {
   "cell_type": "markdown",
   "id": "da111b45",
   "metadata": {},
   "source": [
    "### Logistic Regression\n",
    "\n",
    "The first thing to know about logistic regression is that it's **used for classification, not regression tasks**. This probably seems confusing given \"regression\" is literally in the name, but we can explain that in a second. Let's take a quick second to remember what the difference between regression and classification is:\n",
    "\n",
    "<img src=\"https://www.researchgate.net/profile/Yves-Matanga/publication/326175998/figure/fig9/AS:644582983352328@1530691967314/Classification-vs-Regression.png\" width=\"500px\">"
   ]
  },
  {
   "cell_type": "markdown",
   "id": "54b5a8ef",
   "metadata": {},
   "source": [
    "While regression tries to fit a line or curve to the data, classification seeks to *label* or *classify* data points as belonging to one class or another. Whenever you're performing classification, you're either directly or indirectly creating a **decision boundary**, which separates one class from another (that's what's being illustrated above).\n",
    "\n",
    "It's also worth noting that classification is usually further broken down into a few types:\n",
    "- **Binary classification**: there are only two possible classes\n",
    "    - e.g. Identifying tumors from brain scans; 0 = no tumor detected, 1 = tumor detected\n",
    "- **Multiclass classification**: there are three or more possible classes\n",
    "    - e.g. Identifying dog breeds from pictures; could have dozens of classes\n",
    "- **Multilabel classification**: there are multiple, non-mutually exclusive labels that can be assigned\n",
    "    - e.g. Identifying any number of objects in a photo\n",
    "    \n",
    "So for binary classification, we only need to predict a 0 or a 1. How does that happen? Let's take a look at the formula:\n",
    "\n",
    "$$\n",
    "x_1w_1 + x_2w_2 + ... + x_nw_n + b = ln\\left( \\frac{\\hat{p}}{1-\\hat{p}} \\right)\n",
    "$$\n",
    "\n",
    "The entire left side should look familiar- it's exactly the same as linear regression! That is, it's a linear combination of all the input variables, plus a constant bias. The key difference is that we're not trying to predict any old value; we want to predict a *probability*. Before going further, let's rearrange the terms to solve for that predicted probability $\\hat{p}$:\n",
    "\n",
    "$$\n",
    "\\begin{aligned}\n",
    "    \\text{let}\\hspace{0.5em}x_1w_1 + x_2w_2 + ... + x_nw_n + b &= X\n",
    "    \\\\\n",
    "    X &= ln\\left( \\frac{\\hat{p}}{1-\\hat{p}} \\right)\n",
    "    \\\\\n",
    "    e^X &= \\left( \\frac{\\hat{p}}{1-\\hat{p}} \\right)\n",
    "    \\\\\n",
    "    e^X (1-\\hat{p}) &= \\hat{p}\n",
    "    \\\\\n",
    "    e^X - e^X\\hat{p} &= \\hat{p}\n",
    "    \\\\\n",
    "    e^X &= \\hat{p} + e^X\\hat{p}\n",
    "    \\\\\n",
    "    e^X &= \\hat{p} (1 + e^X)\n",
    "    \\\\\n",
    "    \\hat{p} = \\frac{e^X}{1 + e^X}\n",
    "\\end{aligned}\n",
    "$$\n",
    "Or, equivalently (multiply top and bottom by $e^{-X}$):\n",
    "$$\n",
    "\\hat{p} = \\frac{1}{1 + e^{-X}}\n",
    "$$"
   ]
  },
  {
   "cell_type": "markdown",
   "id": "01b67814",
   "metadata": {},
   "source": [
    "Okay, now we're ready to interpret these formulas. You may not have known, but there are two very special functions we came across just now:\n",
    "\n",
    "$$\n",
    "logit(p) = ln\\left( \\frac{p}{1-p} \\right)\n",
    "$$\n",
    "and\n",
    "$$\n",
    "sigmoid(x) = \\frac{1}{1 + e^{-x}}\n",
    "$$\n",
    "\n",
    "The logit function takes in a probability (from 0 to 1) and returns a real number from negative infinity to positive infinity (called a logit). The sigmoid function is the inverse of the logit function, so it takes in a logit and returns a probability from 0 to 1. Let's visualize the sigmoid function:\n",
    "\n",
    "<img src=\"https://miro.medium.com/max/1838/1*JHWL_71qml0kP_Imyx4zBg.png\" width=\"600px\">\n",
    "\n",
    "Basically, for very large negative inputs, the sigmoid function returns nearly 0. For very large positive inputs, it returns nearly 1. As $x$ approaches 0, $sigmoid(x) \\rightarrow \\frac{1}{2}$. Let's look at the formula again and see if this makes sense:\n",
    "\n",
    "$$\n",
    "\\hat{p} = \\frac{1}{1 + e^{-X}} = sigmoid(x_1w_1 + x_2w_2 + ... + x_nw_n + b)\n",
    "$$\n",
    "\n",
    "See what's happening? First, we perform all the usual linear regression stuff (multiply each input variable by its weight, add the bias), but then we transform that real number into a probability by passing it through the sigmoid function! That probability represents the probability that the input belongs to the positive class. Let's make this a little more visual by returning to the idea of a *decision boundary*:\n",
    "\n",
    "<img src=\"https://scipython.com/static/media/uploads/blog/logistic_regression/decision-boundary.png\" width=\"450px\">"
   ]
  },
  {
   "cell_type": "markdown",
   "id": "4c644ee7",
   "metadata": {},
   "source": [
    "It looks like someone has already fitted a logistic regression model to this dataset to separate the blue points from the orange points. Take a look at that decision boundary- what does a decision boundary represent? It means that all the points on one side of the line will be classified one way, and the points on the other side will be classified the other. Let's say that blue represents the negative class (0) and orange represents the positive class (1). The further you go above the line, the higher the predicted probability of belonging to the positive class ($\\hat{p} \\rightarrow 1$). The further below the line you go, the lower the predicted probability of belonging to the positive class ($\\hat{p} \\rightarrow 0$). Right on the line, you can't make a decision; that corresponds to $\\hat{p} = \\frac{1}{2}$. See the connection?\n",
    "\n",
    "Now consider what it means to be above the line in this case. If the decision boundary is $x_1w_1 + x_2w_2 + b = 0$, then the orange region is represented by $x_1w_1 + x_2w_2 + b > 0$ and the blue region is represented by $x_1w_1 + x_2w_2 + b < 0$ (<a href=\"https://www.desmos.com/calculator/hsll1powpe\">see for yourself</a>, if that's not clear!).\n",
    "\n",
    "*So!* This is the understanding of logistic regression I've been building up to:\n",
    "\n",
    "> Logistic regression is almost identical to linear regression, in that it finds weights and biases that best \"fit\" the data. Unlike linear regression, which tries to find a line that best fits the general trend of the data, logistic regression finds a decision boundary that best separates the data into their correct classes. Data points are then compared to the decision boundary (via $x_1w_1 + x_2w_2 + ... + x_nw_n + b$), and converted to a probability of belonging to the positive class by passing the resulting value into the sigmoid function. That's it!\n",
    "\n",
    "Two quick things before running some code: how could we visualize a logistic regression model like we did linear regression? The only thing we would need to add is the sigmoid function between the inputs and outputs. There's no standard way of drawing this, but I'll illustrate it like so:\n",
    "\n",
    "<img src=\"images/log_reg.png\" width=\"400px\">"
   ]
  },
  {
   "cell_type": "markdown",
   "id": "39a7eeb0",
   "metadata": {},
   "source": [
    "Here, we can call the sigmoid function an **activation function**. You'll hear more about that when we get to deep learning :)\n",
    "\n",
    "Finally, which loss function is used in logistic regression? Typically, it's <a href=\"https://ml-cheatsheet.readthedocs.io/en/latest/loss_functions.html#cross-entropy\">`cross-entropy loss`</a> (aka `log loss`). It's not necessary to go over that in detail, but it's worth reminding ourselves that models need some metric to optimize in order to \"learn\" the data.\n",
    "\n",
    "### Less math, more code"
   ]
  },
  {
   "cell_type": "code",
   "execution_count": null,
   "id": "3582e8fa",
   "metadata": {},
   "outputs": [],
   "source": [
    "def plot_classification_data(X_data, y_data, n_classes, labels=None):\n",
    "    classes = [[row for j, row in enumerate(X_data) if y_data[j] == i] for i in range(n_classes)]\n",
    "    for i, class_i in enumerate(classes):\n",
    "        plt.scatter(np.array(class_i)[:, 0], np.array(class_i)[:, 1], label=f\"class {i}\")\n",
    "    plt.legend()\n",
    "    if labels is not None:\n",
    "        plt.xlabel(labels[0])\n",
    "        plt.ylabel(labels[1])"
   ]
  },
  {
   "cell_type": "code",
   "execution_count": null,
   "id": "ffa60a60",
   "metadata": {},
   "outputs": [],
   "source": [
    "# Make classification task\n",
    "X_class, y_class = datasets.make_blobs(centers=2, random_state=95, cluster_std=3)\n",
    "# Print first 10 samples (each has two features)\n",
    "print(X_class[:10])"
   ]
  },
  {
   "cell_type": "code",
   "execution_count": null,
   "id": "4ac1ba57",
   "metadata": {},
   "outputs": [],
   "source": [
    "# Print first 10 labels\n",
    "print(y_class[:10])"
   ]
  },
  {
   "cell_type": "code",
   "execution_count": null,
   "id": "9cb6b397",
   "metadata": {},
   "outputs": [],
   "source": [
    "# Plot data\n",
    "plot_classification_data(X_class, y_class, n_classes=2)\n",
    "plt.show()"
   ]
  },
  {
   "cell_type": "code",
   "execution_count": null,
   "id": "9738865f",
   "metadata": {},
   "outputs": [],
   "source": [
    "from sklearn.linear_model import LogisticRegression\n",
    "# Fit model to data\n",
    "classifier = LogisticRegression().fit(X_class, y_class)"
   ]
  },
  {
   "cell_type": "code",
   "execution_count": null,
   "id": "17861f87",
   "metadata": {},
   "outputs": [],
   "source": [
    "print(f\"First ten predictions: {classifier.predict(X_class[:10])}\")\n",
    "print(f\"First ten actual labels: {y_class[:10]}\")"
   ]
  },
  {
   "cell_type": "markdown",
   "id": "62af0e75",
   "metadata": {},
   "source": [
    "We can also plot the decision boundary:"
   ]
  },
  {
   "cell_type": "code",
   "execution_count": null,
   "id": "a30cdc79",
   "metadata": {},
   "outputs": [],
   "source": [
    "# classifier.coef_ gets us [[w_1, w_2]] and classfier.intercept_ gets us b\n",
    "# To get traditional slope and y-intercept, we need to rearrange ax + by = c into y = (-a/b)x - (c/b)\n",
    "decision_m = -classifier.coef_[0,0] / classifier.coef_[0,1]\n",
    "decision_b = classifier.intercept_ / classifier.coef_[0,1]"
   ]
  },
  {
   "cell_type": "code",
   "execution_count": null,
   "id": "e173f851",
   "metadata": {},
   "outputs": [],
   "source": [
    "plot_classification_data(X_class, y_class, n_classes=2)\n",
    "abline(decision_m, decision_b)\n",
    "plt.show()"
   ]
  },
  {
   "cell_type": "markdown",
   "id": "b124ee59",
   "metadata": {},
   "source": [
    "That worked well! But, just like linear regression, logistic regression has a weakness- it can only learn linear decision boundaries, like lines and planes. Here's some data that definitely isn't linearly separable."
   ]
  },
  {
   "cell_type": "code",
   "execution_count": null,
   "id": "de59f75a",
   "metadata": {},
   "outputs": [],
   "source": [
    "from sklearn.datasets import make_gaussian_quantiles\n",
    "X_gauss, y_gauss = datasets.make_gaussian_quantiles(n_features=2, \n",
    "                                 n_classes=2, \n",
    "                                 random_state=12)\n",
    "\n",
    "plot_classification_data(X_gauss, y_gauss, n_classes=2)\n",
    "plt.show()"
   ]
  },
  {
   "cell_type": "markdown",
   "id": "8a6431a2",
   "metadata": {},
   "source": [
    "Good luck, linear regression."
   ]
  },
  {
   "cell_type": "code",
   "execution_count": null,
   "id": "04312b42",
   "metadata": {},
   "outputs": [],
   "source": [
    "# Fit model\n",
    "classifier_2 = LogisticRegression().fit(X_gauss, y_gauss)\n",
    "decision_m = -classifier.coef_[0,0] / classifier.coef_[0,1]\n",
    "decision_b = classifier.intercept_ / classifier.coef_[0,1]\n",
    "# Plot data again\n",
    "plot_classification_data(X_gauss, y_gauss, n_classes=2)\n",
    "# Plot decision boundary\n",
    "abline(decision_m, decision_b)\n",
    "plt.show()"
   ]
  },
  {
   "cell_type": "markdown",
   "id": "4c522a34",
   "metadata": {},
   "source": [
    "Again, it's literally the best logistic regression could do, but it's a bad fit. Not the right algorithm for this data!"
   ]
  },
  {
   "cell_type": "markdown",
   "id": "1703e6cc",
   "metadata": {},
   "source": [
    "### Classification Case Study!\n",
    "\n",
    "What if we wanted to predict whether a given house had a fireplace or not? To make things more challenging, let's not use the sale price as a predictor. Instead, we'll use the first floor square footage, second floor square footage, and the wooden deck square footage."
   ]
  },
  {
   "cell_type": "code",
   "execution_count": null,
   "id": "0e93d38c",
   "metadata": {},
   "outputs": [],
   "source": [
    "X_data = house_data[[\"1stFlrSF\", \"2ndFlrSF\", \"WoodDeckSF\"]]\n",
    "y_data = house_data[\"Fireplaces\"]"
   ]
  },
  {
   "cell_type": "code",
   "execution_count": null,
   "id": "8cc7a433",
   "metadata": {},
   "outputs": [],
   "source": [
    "X_data"
   ]
  },
  {
   "cell_type": "code",
   "execution_count": null,
   "id": "fab64163",
   "metadata": {},
   "outputs": [],
   "source": [
    "# Print out the frequency of the y values\n",
    "y_data.value_counts()"
   ]
  },
  {
   "cell_type": "markdown",
   "id": "8b97f4f0",
   "metadata": {},
   "source": [
    "We have the number of fireplaces, but we just want 0 (no fireplace) or 1 (fireplace). So, let's transform the data a bit...\n",
    "What should we do here? How do we engineer our data?"
   ]
  },
  {
   "cell_type": "code",
   "execution_count": null,
   "id": "b75943e1",
   "metadata": {},
   "outputs": [],
   "source": []
  },
  {
   "cell_type": "markdown",
   "id": "1e4507c7",
   "metadata": {},
   "source": [
    "Let's also plot our data; we have three input variables, so we'll plot each of them against each other."
   ]
  },
  {
   "cell_type": "code",
   "execution_count": null,
   "id": "974345fb",
   "metadata": {},
   "outputs": [],
   "source": [
    "plot_classification_data(np.array(X_data)[:,:2], np.array(y_data), n_classes=2, labels=[\"1stflr\", \"2ndflr\"])"
   ]
  },
  {
   "cell_type": "code",
   "execution_count": null,
   "id": "541742ae",
   "metadata": {},
   "outputs": [],
   "source": [
    "plot_classification_data(np.array(X_data)[:,1:3], np.array(y_data), n_classes=2, labels=[\"2ndflr\", \"wooddeck\"])"
   ]
  },
  {
   "cell_type": "code",
   "execution_count": null,
   "id": "7f82c77d",
   "metadata": {},
   "outputs": [],
   "source": [
    "# A bit of numpy magic to get the first and third row of our X data\n",
    "X_first_and_third_row = np.vstack((np.array(X_data)[:,0], np.array(X_data)[:,2])).transpose()\n",
    "plot_classification_data(X_first_and_third_row, np.array(y_data), n_classes=2, labels=[\"1stflr\", \"wooddeck\"])"
   ]
  },
  {
   "cell_type": "markdown",
   "id": "7bd4aa9d",
   "metadata": {},
   "source": [
    "Great! As we can see, there's quite a lot of overlap between the two classes. The orange class (`has fireplace`) tends to have higher square footage in all input variables, so that should help, but we shouldn't expect near-100% accuracy."
   ]
  },
  {
   "cell_type": "code",
   "execution_count": null,
   "id": "43dc5f40",
   "metadata": {},
   "outputs": [],
   "source": [
    "X_train, X_test, y_train, y_test = train_test_split(X_data, y_data, test_size=0.2, random_state=41)\n",
    "classifier = LogisticRegression().fit(X_train, y_train)"
   ]
  },
  {
   "cell_type": "code",
   "execution_count": null,
   "id": "b4e56b3a",
   "metadata": {},
   "outputs": [],
   "source": [
    "first_floor = 1000\n",
    "second_floor = 0\n",
    "deck = 100\n",
    "\n",
    "print(f\"First floor area (sq. ft.): {first_floor}\")\n",
    "print(f\"Second floor area (sq. ft.): {second_floor}\")\n",
    "print(f\"Wooden deck area (sq. ft.): {deck}\")\n",
    "\n",
    "pred = classifier.predict([[first_floor, second_floor, deck]])\n",
    "print(f\"The model predicts that this property {'does' if pred[0] else 'does not'} have a fireplace\")"
   ]
  },
  {
   "cell_type": "markdown",
   "id": "8f14be01",
   "metadata": {},
   "source": [
    "There are a lot of options for evaluating a classifier. We'll cover this more in a later session to not get distracted, but for now let's just check accuracy (percent of all predictions that are correct)."
   ]
  },
  {
   "cell_type": "code",
   "execution_count": null,
   "id": "69a8b214",
   "metadata": {},
   "outputs": [],
   "source": [
    "# Training accuracy\n",
    "classifier.score(X_train, y_train)"
   ]
  },
  {
   "cell_type": "code",
   "execution_count": null,
   "id": "be1eb195",
   "metadata": {},
   "outputs": [],
   "source": [
    "# Test accuracy\n",
    "classifier.score(X_test, y_test)"
   ]
  },
  {
   "cell_type": "markdown",
   "id": "e942a8c6",
   "metadata": {},
   "source": [
    "Again, not bad! 75% is an okay accuracy, especially considering we randomly chose our input data, used only two features, and did no data processing. If we had more time to spend, we would plot different distributions against each other (e.g. first floor square footage distribution for fireplace vs. no fireplace properties) and determine which variables would be most predictive, but we've already done a lot today and data visualization could be another workshop in and of itself!\n",
    "\n",
    "### Case Study Takeaways\n",
    "\n",
    "- Spend a lot more time than we did here exploring and visualizing your data and seeing how they relate to your target variable\n",
    "- Split your data into training and test data; training on your training data and evaluate on your test data\n",
    "- Always keep in mind that your model choice matters. So far we've only met one model for regression and one model for classification, but in the future you'll have more options to choose from!\n",
    "- For evaluating regression, $R^2$ is often a good choice. For classification, accuracy is one option (but can be misleading). Stay tuned for more options!"
   ]
  }
 ],
 "metadata": {
  "kernelspec": {
   "display_name": "Python 3.8.10 64-bit",
   "language": "python",
   "name": "python3"
  },
  "language_info": {
   "codemirror_mode": {
    "name": "ipython",
    "version": 3
   },
   "file_extension": ".py",
   "mimetype": "text/x-python",
   "name": "python",
   "nbconvert_exporter": "python",
   "pygments_lexer": "ipython3",
   "version": "3.8.10"
  },
  "vscode": {
   "interpreter": {
    "hash": "f2fc80e121636b772365a55387a8486b641440f139290df9d34a00bf7086ae22"
   }
  }
 },
 "nbformat": 4,
 "nbformat_minor": 5
}
